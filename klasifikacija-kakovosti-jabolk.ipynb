{
 "cells": [
  {
   "cell_type": "markdown",
   "id": "06496acf",
   "metadata": {
    "papermill": {
     "duration": 0.011241,
     "end_time": "2025-07-15T15:03:29.444392",
     "exception": false,
     "start_time": "2025-07-15T15:03:29.433151",
     "status": "completed"
    },
    "tags": []
   },
   "source": [
    "# Nalaganje osnovnih paketov\n",
    "pandas: data analisys library\n"
   ]
  },
  {
   "cell_type": "code",
   "execution_count": 1,
   "id": "8cf9a8cb",
   "metadata": {
    "execution": {
     "iopub.execute_input": "2025-07-15T15:03:29.467069Z",
     "iopub.status.busy": "2025-07-15T15:03:29.466662Z",
     "iopub.status.idle": "2025-07-15T15:03:30.397456Z",
     "shell.execute_reply": "2025-07-15T15:03:30.396311Z"
    },
    "papermill": {
     "duration": 0.944527,
     "end_time": "2025-07-15T15:03:30.399776",
     "exception": false,
     "start_time": "2025-07-15T15:03:29.455249",
     "status": "completed"
    },
    "tags": []
   },
   "outputs": [],
   "source": [
    "import pandas as pd"
   ]
  },
  {
   "cell_type": "markdown",
   "id": "b7212b5c",
   "metadata": {
    "papermill": {
     "duration": 0.00999,
     "end_time": "2025-07-15T15:03:30.422756",
     "exception": false,
     "start_time": "2025-07-15T15:03:30.412766",
     "status": "completed"
    },
    "tags": []
   },
   "source": [
    "# Vhodni podatki in vizualizacija (Data understanding)\n"
   ]
  },
  {
   "cell_type": "markdown",
   "id": "259f1610",
   "metadata": {
    "papermill": {
     "duration": 0.00996,
     "end_time": "2025-07-15T15:03:30.442919",
     "exception": false,
     "start_time": "2025-07-15T15:03:30.432959",
     "status": "completed"
    },
    "tags": []
   },
   "source": [
    "**Nalaganje dataset-a**\n",
    "\n",
    "preverimo ali smo pravilno naložili dataset"
   ]
  },
  {
   "cell_type": "code",
   "execution_count": 2,
   "id": "1c625c51",
   "metadata": {
    "execution": {
     "iopub.execute_input": "2025-07-15T15:03:30.464590Z",
     "iopub.status.busy": "2025-07-15T15:03:30.464048Z",
     "iopub.status.idle": "2025-07-15T15:03:30.593653Z",
     "shell.execute_reply": "2025-07-15T15:03:30.592172Z"
    },
    "papermill": {
     "duration": 0.142936,
     "end_time": "2025-07-15T15:03:30.595831",
     "exception": false,
     "start_time": "2025-07-15T15:03:30.452895",
     "status": "completed"
    },
    "tags": []
   },
   "outputs": [
    {
     "name": "stdout",
     "output_type": "stream",
     "text": [
      "apple_quality.csv\r\n"
     ]
    }
   ],
   "source": [
    "!ls /kaggle/input/apple-quality"
   ]
  },
  {
   "cell_type": "markdown",
   "id": "476e56c3",
   "metadata": {
    "papermill": {
     "duration": 0.015501,
     "end_time": "2025-07-15T15:03:30.623158",
     "exception": false,
     "start_time": "2025-07-15T15:03:30.607657",
     "status": "completed"
    },
    "tags": []
   },
   "source": [
    "Preberemo CSV datoteko in prikažemo prvih nekaj vrstic naloženega dataset-a. Ogled prvih nekaj vrstic ponuja začetni vpogled v stolpce in podatke.\n",
    "\n",
    "raw_data ... podatki v Pandas DataFrame obliki"
   ]
  },
  {
   "cell_type": "code",
   "execution_count": 3,
   "id": "5b35f18f",
   "metadata": {
    "execution": {
     "iopub.execute_input": "2025-07-15T15:03:30.653422Z",
     "iopub.status.busy": "2025-07-15T15:03:30.652922Z",
     "iopub.status.idle": "2025-07-15T15:03:30.720657Z",
     "shell.execute_reply": "2025-07-15T15:03:30.719278Z"
    },
    "papermill": {
     "duration": 0.085279,
     "end_time": "2025-07-15T15:03:30.722424",
     "exception": false,
     "start_time": "2025-07-15T15:03:30.637145",
     "status": "completed"
    },
    "tags": []
   },
   "outputs": [
    {
     "data": {
      "text/html": [
       "<div>\n",
       "<style scoped>\n",
       "    .dataframe tbody tr th:only-of-type {\n",
       "        vertical-align: middle;\n",
       "    }\n",
       "\n",
       "    .dataframe tbody tr th {\n",
       "        vertical-align: top;\n",
       "    }\n",
       "\n",
       "    .dataframe thead th {\n",
       "        text-align: right;\n",
       "    }\n",
       "</style>\n",
       "<table border=\"1\" class=\"dataframe\">\n",
       "  <thead>\n",
       "    <tr style=\"text-align: right;\">\n",
       "      <th></th>\n",
       "      <th>A_id</th>\n",
       "      <th>Size</th>\n",
       "      <th>Weight</th>\n",
       "      <th>Sweetness</th>\n",
       "      <th>Crunchiness</th>\n",
       "      <th>Juiciness</th>\n",
       "      <th>Ripeness</th>\n",
       "      <th>Acidity</th>\n",
       "      <th>Quality</th>\n",
       "    </tr>\n",
       "  </thead>\n",
       "  <tbody>\n",
       "    <tr>\n",
       "      <th>0</th>\n",
       "      <td>0.0</td>\n",
       "      <td>-3.970049</td>\n",
       "      <td>-2.512336</td>\n",
       "      <td>5.346330</td>\n",
       "      <td>-1.012009</td>\n",
       "      <td>1.844900</td>\n",
       "      <td>0.329840</td>\n",
       "      <td>-0.491590483</td>\n",
       "      <td>good</td>\n",
       "    </tr>\n",
       "    <tr>\n",
       "      <th>1</th>\n",
       "      <td>1.0</td>\n",
       "      <td>-1.195217</td>\n",
       "      <td>-2.839257</td>\n",
       "      <td>3.664059</td>\n",
       "      <td>1.588232</td>\n",
       "      <td>0.853286</td>\n",
       "      <td>0.867530</td>\n",
       "      <td>-0.722809367</td>\n",
       "      <td>good</td>\n",
       "    </tr>\n",
       "    <tr>\n",
       "      <th>2</th>\n",
       "      <td>2.0</td>\n",
       "      <td>-0.292024</td>\n",
       "      <td>-1.351282</td>\n",
       "      <td>-1.738429</td>\n",
       "      <td>-0.342616</td>\n",
       "      <td>2.838636</td>\n",
       "      <td>-0.038033</td>\n",
       "      <td>2.621636473</td>\n",
       "      <td>bad</td>\n",
       "    </tr>\n",
       "    <tr>\n",
       "      <th>3</th>\n",
       "      <td>3.0</td>\n",
       "      <td>-0.657196</td>\n",
       "      <td>-2.271627</td>\n",
       "      <td>1.324874</td>\n",
       "      <td>-0.097875</td>\n",
       "      <td>3.637970</td>\n",
       "      <td>-3.413761</td>\n",
       "      <td>0.790723217</td>\n",
       "      <td>good</td>\n",
       "    </tr>\n",
       "    <tr>\n",
       "      <th>4</th>\n",
       "      <td>4.0</td>\n",
       "      <td>1.364217</td>\n",
       "      <td>-1.296612</td>\n",
       "      <td>-0.384658</td>\n",
       "      <td>-0.553006</td>\n",
       "      <td>3.030874</td>\n",
       "      <td>-1.303849</td>\n",
       "      <td>0.501984036</td>\n",
       "      <td>good</td>\n",
       "    </tr>\n",
       "  </tbody>\n",
       "</table>\n",
       "</div>"
      ],
      "text/plain": [
       "   A_id      Size    Weight  Sweetness  Crunchiness  Juiciness  Ripeness  \\\n",
       "0   0.0 -3.970049 -2.512336   5.346330    -1.012009   1.844900  0.329840   \n",
       "1   1.0 -1.195217 -2.839257   3.664059     1.588232   0.853286  0.867530   \n",
       "2   2.0 -0.292024 -1.351282  -1.738429    -0.342616   2.838636 -0.038033   \n",
       "3   3.0 -0.657196 -2.271627   1.324874    -0.097875   3.637970 -3.413761   \n",
       "4   4.0  1.364217 -1.296612  -0.384658    -0.553006   3.030874 -1.303849   \n",
       "\n",
       "        Acidity Quality  \n",
       "0  -0.491590483    good  \n",
       "1  -0.722809367    good  \n",
       "2   2.621636473     bad  \n",
       "3   0.790723217    good  \n",
       "4   0.501984036    good  "
      ]
     },
     "execution_count": 3,
     "metadata": {},
     "output_type": "execute_result"
    }
   ],
   "source": [
    "filename = \"/kaggle/input/apple-quality/apple_quality.csv\"\n",
    "raw_data = pd.read_csv(filename)\n",
    "raw_data.head()"
   ]
  },
  {
   "cell_type": "markdown",
   "id": "109ef51f",
   "metadata": {
    "papermill": {
     "duration": 0.010329,
     "end_time": "2025-07-15T15:03:30.743532",
     "exception": false,
     "start_time": "2025-07-15T15:03:30.733203",
     "status": "completed"
    },
    "tags": []
   },
   "source": [
    "**Vizualizacija**\n",
    "\n",
    "Ukaz *.info()* ponuja kratek povzetek DataFrame-a, ki prikazuje tipe stolpcev, število neničelnih vrednosti in splošno porabo pomnilnika. Iz rezultatov je očitno, da v mojih podatkih ničenih vrednosti ni."
   ]
  },
  {
   "cell_type": "code",
   "execution_count": 4,
   "id": "18a72998",
   "metadata": {
    "execution": {
     "iopub.execute_input": "2025-07-15T15:03:30.766081Z",
     "iopub.status.busy": "2025-07-15T15:03:30.765666Z",
     "iopub.status.idle": "2025-07-15T15:03:30.795317Z",
     "shell.execute_reply": "2025-07-15T15:03:30.793912Z"
    },
    "papermill": {
     "duration": 0.043184,
     "end_time": "2025-07-15T15:03:30.797126",
     "exception": false,
     "start_time": "2025-07-15T15:03:30.753942",
     "status": "completed"
    },
    "tags": []
   },
   "outputs": [
    {
     "name": "stdout",
     "output_type": "stream",
     "text": [
      "<class 'pandas.core.frame.DataFrame'>\n",
      "RangeIndex: 4001 entries, 0 to 4000\n",
      "Data columns (total 9 columns):\n",
      " #   Column       Non-Null Count  Dtype  \n",
      "---  ------       --------------  -----  \n",
      " 0   A_id         4000 non-null   float64\n",
      " 1   Size         4000 non-null   float64\n",
      " 2   Weight       4000 non-null   float64\n",
      " 3   Sweetness    4000 non-null   float64\n",
      " 4   Crunchiness  4000 non-null   float64\n",
      " 5   Juiciness    4000 non-null   float64\n",
      " 6   Ripeness     4000 non-null   float64\n",
      " 7   Acidity      4001 non-null   object \n",
      " 8   Quality      4000 non-null   object \n",
      "dtypes: float64(7), object(2)\n",
      "memory usage: 281.4+ KB\n"
     ]
    }
   ],
   "source": [
    "raw_data.info()"
   ]
  },
  {
   "cell_type": "markdown",
   "id": "95bdece5",
   "metadata": {
    "papermill": {
     "duration": 0.014764,
     "end_time": "2025-07-15T15:03:30.833507",
     "exception": false,
     "start_time": "2025-07-15T15:03:30.818743",
     "status": "completed"
    },
    "tags": []
   },
   "source": [
    "Ukaz *.describe()* nam omogoča vpogled v osnovne statistične vrednosti naših podatkov. Spodaj pa so vrednosti podatkov predstavljene še v histogramih za lažjo vizualizacijo. Iz njiju je razvidna porazdelitev vrednosti podatkov in pa njihov razpon."
   ]
  },
  {
   "cell_type": "code",
   "execution_count": 5,
   "id": "ba4b36ed",
   "metadata": {
    "execution": {
     "iopub.execute_input": "2025-07-15T15:03:30.870329Z",
     "iopub.status.busy": "2025-07-15T15:03:30.869794Z",
     "iopub.status.idle": "2025-07-15T15:03:30.907452Z",
     "shell.execute_reply": "2025-07-15T15:03:30.906395Z"
    },
    "papermill": {
     "duration": 0.056625,
     "end_time": "2025-07-15T15:03:30.909126",
     "exception": false,
     "start_time": "2025-07-15T15:03:30.852501",
     "status": "completed"
    },
    "tags": []
   },
   "outputs": [
    {
     "data": {
      "text/html": [
       "<div>\n",
       "<style scoped>\n",
       "    .dataframe tbody tr th:only-of-type {\n",
       "        vertical-align: middle;\n",
       "    }\n",
       "\n",
       "    .dataframe tbody tr th {\n",
       "        vertical-align: top;\n",
       "    }\n",
       "\n",
       "    .dataframe thead th {\n",
       "        text-align: right;\n",
       "    }\n",
       "</style>\n",
       "<table border=\"1\" class=\"dataframe\">\n",
       "  <thead>\n",
       "    <tr style=\"text-align: right;\">\n",
       "      <th></th>\n",
       "      <th>A_id</th>\n",
       "      <th>Size</th>\n",
       "      <th>Weight</th>\n",
       "      <th>Sweetness</th>\n",
       "      <th>Crunchiness</th>\n",
       "      <th>Juiciness</th>\n",
       "      <th>Ripeness</th>\n",
       "    </tr>\n",
       "  </thead>\n",
       "  <tbody>\n",
       "    <tr>\n",
       "      <th>count</th>\n",
       "      <td>4000.000000</td>\n",
       "      <td>4000.000000</td>\n",
       "      <td>4000.000000</td>\n",
       "      <td>4000.000000</td>\n",
       "      <td>4000.000000</td>\n",
       "      <td>4000.000000</td>\n",
       "      <td>4000.000000</td>\n",
       "    </tr>\n",
       "    <tr>\n",
       "      <th>mean</th>\n",
       "      <td>1999.500000</td>\n",
       "      <td>-0.503015</td>\n",
       "      <td>-0.989547</td>\n",
       "      <td>-0.470479</td>\n",
       "      <td>0.985478</td>\n",
       "      <td>0.512118</td>\n",
       "      <td>0.498277</td>\n",
       "    </tr>\n",
       "    <tr>\n",
       "      <th>std</th>\n",
       "      <td>1154.844867</td>\n",
       "      <td>1.928059</td>\n",
       "      <td>1.602507</td>\n",
       "      <td>1.943441</td>\n",
       "      <td>1.402757</td>\n",
       "      <td>1.930286</td>\n",
       "      <td>1.874427</td>\n",
       "    </tr>\n",
       "    <tr>\n",
       "      <th>min</th>\n",
       "      <td>0.000000</td>\n",
       "      <td>-7.151703</td>\n",
       "      <td>-7.149848</td>\n",
       "      <td>-6.894485</td>\n",
       "      <td>-6.055058</td>\n",
       "      <td>-5.961897</td>\n",
       "      <td>-5.864599</td>\n",
       "    </tr>\n",
       "    <tr>\n",
       "      <th>25%</th>\n",
       "      <td>999.750000</td>\n",
       "      <td>-1.816765</td>\n",
       "      <td>-2.011770</td>\n",
       "      <td>-1.738425</td>\n",
       "      <td>0.062764</td>\n",
       "      <td>-0.801286</td>\n",
       "      <td>-0.771677</td>\n",
       "    </tr>\n",
       "    <tr>\n",
       "      <th>50%</th>\n",
       "      <td>1999.500000</td>\n",
       "      <td>-0.513703</td>\n",
       "      <td>-0.984736</td>\n",
       "      <td>-0.504758</td>\n",
       "      <td>0.998249</td>\n",
       "      <td>0.534219</td>\n",
       "      <td>0.503445</td>\n",
       "    </tr>\n",
       "    <tr>\n",
       "      <th>75%</th>\n",
       "      <td>2999.250000</td>\n",
       "      <td>0.805526</td>\n",
       "      <td>0.030976</td>\n",
       "      <td>0.801922</td>\n",
       "      <td>1.894234</td>\n",
       "      <td>1.835976</td>\n",
       "      <td>1.766212</td>\n",
       "    </tr>\n",
       "    <tr>\n",
       "      <th>max</th>\n",
       "      <td>3999.000000</td>\n",
       "      <td>6.406367</td>\n",
       "      <td>5.790714</td>\n",
       "      <td>6.374916</td>\n",
       "      <td>7.619852</td>\n",
       "      <td>7.364403</td>\n",
       "      <td>7.237837</td>\n",
       "    </tr>\n",
       "  </tbody>\n",
       "</table>\n",
       "</div>"
      ],
      "text/plain": [
       "              A_id         Size       Weight    Sweetness  Crunchiness  \\\n",
       "count  4000.000000  4000.000000  4000.000000  4000.000000  4000.000000   \n",
       "mean   1999.500000    -0.503015    -0.989547    -0.470479     0.985478   \n",
       "std    1154.844867     1.928059     1.602507     1.943441     1.402757   \n",
       "min       0.000000    -7.151703    -7.149848    -6.894485    -6.055058   \n",
       "25%     999.750000    -1.816765    -2.011770    -1.738425     0.062764   \n",
       "50%    1999.500000    -0.513703    -0.984736    -0.504758     0.998249   \n",
       "75%    2999.250000     0.805526     0.030976     0.801922     1.894234   \n",
       "max    3999.000000     6.406367     5.790714     6.374916     7.619852   \n",
       "\n",
       "         Juiciness     Ripeness  \n",
       "count  4000.000000  4000.000000  \n",
       "mean      0.512118     0.498277  \n",
       "std       1.930286     1.874427  \n",
       "min      -5.961897    -5.864599  \n",
       "25%      -0.801286    -0.771677  \n",
       "50%       0.534219     0.503445  \n",
       "75%       1.835976     1.766212  \n",
       "max       7.364403     7.237837  "
      ]
     },
     "execution_count": 5,
     "metadata": {},
     "output_type": "execute_result"
    }
   ],
   "source": [
    "raw_data.describe()"
   ]
  },
  {
   "cell_type": "code",
   "execution_count": 6,
   "id": "88e73c34",
   "metadata": {
    "execution": {
     "iopub.execute_input": "2025-07-15T15:03:30.941210Z",
     "iopub.status.busy": "2025-07-15T15:03:30.940671Z",
     "iopub.status.idle": "2025-07-15T15:03:32.005683Z",
     "shell.execute_reply": "2025-07-15T15:03:32.004487Z"
    },
    "papermill": {
     "duration": 1.084207,
     "end_time": "2025-07-15T15:03:32.007536",
     "exception": false,
     "start_time": "2025-07-15T15:03:30.923329",
     "status": "completed"
    },
    "tags": []
   },
   "outputs": [
    {
     "data": {
      "text/plain": [
       "array([[<Axes: title={'center': 'Size'}>,\n",
       "        <Axes: title={'center': 'Weight'}>],\n",
       "       [<Axes: title={'center': 'Sweetness'}>,\n",
       "        <Axes: title={'center': 'Crunchiness'}>],\n",
       "       [<Axes: title={'center': 'Juiciness'}>,\n",
       "        <Axes: title={'center': 'Ripeness'}>]], dtype=object)"
      ]
     },
     "execution_count": 6,
     "metadata": {},
     "output_type": "execute_result"
    },
    {
     "data": {
      "image/png": "[encoded data removed]",
      "text/plain": [
       "<Figure size 640x480 with 6 Axes>"
      ]
     },
     "metadata": {},
     "output_type": "display_data"
    }
   ],
   "source": [
    "raw_data.drop(columns=[\"A_id\"]).hist()"
   ]
  },
  {
   "cell_type": "markdown",
   "id": "24b712d1",
   "metadata": {
    "papermill": {
     "duration": 0.011509,
     "end_time": "2025-07-15T15:03:32.031094",
     "exception": false,
     "start_time": "2025-07-15T15:03:32.019585",
     "status": "completed"
    },
    "tags": []
   },
   "source": [
    "**Priprava podatkov**\n",
    "\n",
    "Zaradi klasifikacijskih algoritmov, ki jih bom v nadaljevanju uporabila, je dobra odločitev, da odstranim stolpec \"A-id\". Oba algortima bi se lahko, če enolični identifikator pustim v podatkih, naučila predvidevat o končni kvalifikaciji z njegovo pomočjo, ki pa v resnici nima povezave na to ali je jabolko dobro ali ne."
   ]
  },
  {
   "cell_type": "code",
   "execution_count": 7,
   "id": "4baeba03",
   "metadata": {
    "execution": {
     "iopub.execute_input": "2025-07-15T15:03:32.056225Z",
     "iopub.status.busy": "2025-07-15T15:03:32.055792Z",
     "iopub.status.idle": "2025-07-15T15:03:32.070364Z",
     "shell.execute_reply": "2025-07-15T15:03:32.069242Z"
    },
    "papermill": {
     "duration": 0.029319,
     "end_time": "2025-07-15T15:03:32.072132",
     "exception": false,
     "start_time": "2025-07-15T15:03:32.042813",
     "status": "completed"
    },
    "tags": []
   },
   "outputs": [
    {
     "data": {
      "text/html": [
       "<div>\n",
       "<style scoped>\n",
       "    .dataframe tbody tr th:only-of-type {\n",
       "        vertical-align: middle;\n",
       "    }\n",
       "\n",
       "    .dataframe tbody tr th {\n",
       "        vertical-align: top;\n",
       "    }\n",
       "\n",
       "    .dataframe thead th {\n",
       "        text-align: right;\n",
       "    }\n",
       "</style>\n",
       "<table border=\"1\" class=\"dataframe\">\n",
       "  <thead>\n",
       "    <tr style=\"text-align: right;\">\n",
       "      <th></th>\n",
       "      <th>Size</th>\n",
       "      <th>Weight</th>\n",
       "      <th>Sweetness</th>\n",
       "      <th>Crunchiness</th>\n",
       "      <th>Juiciness</th>\n",
       "      <th>Ripeness</th>\n",
       "      <th>Acidity</th>\n",
       "      <th>Quality</th>\n",
       "    </tr>\n",
       "  </thead>\n",
       "  <tbody>\n",
       "    <tr>\n",
       "      <th>0</th>\n",
       "      <td>-3.970049</td>\n",
       "      <td>-2.512336</td>\n",
       "      <td>5.346330</td>\n",
       "      <td>-1.012009</td>\n",
       "      <td>1.844900</td>\n",
       "      <td>0.329840</td>\n",
       "      <td>-0.491590483</td>\n",
       "      <td>good</td>\n",
       "    </tr>\n",
       "    <tr>\n",
       "      <th>1</th>\n",
       "      <td>-1.195217</td>\n",
       "      <td>-2.839257</td>\n",
       "      <td>3.664059</td>\n",
       "      <td>1.588232</td>\n",
       "      <td>0.853286</td>\n",
       "      <td>0.867530</td>\n",
       "      <td>-0.722809367</td>\n",
       "      <td>good</td>\n",
       "    </tr>\n",
       "    <tr>\n",
       "      <th>2</th>\n",
       "      <td>-0.292024</td>\n",
       "      <td>-1.351282</td>\n",
       "      <td>-1.738429</td>\n",
       "      <td>-0.342616</td>\n",
       "      <td>2.838636</td>\n",
       "      <td>-0.038033</td>\n",
       "      <td>2.621636473</td>\n",
       "      <td>bad</td>\n",
       "    </tr>\n",
       "    <tr>\n",
       "      <th>3</th>\n",
       "      <td>-0.657196</td>\n",
       "      <td>-2.271627</td>\n",
       "      <td>1.324874</td>\n",
       "      <td>-0.097875</td>\n",
       "      <td>3.637970</td>\n",
       "      <td>-3.413761</td>\n",
       "      <td>0.790723217</td>\n",
       "      <td>good</td>\n",
       "    </tr>\n",
       "    <tr>\n",
       "      <th>4</th>\n",
       "      <td>1.364217</td>\n",
       "      <td>-1.296612</td>\n",
       "      <td>-0.384658</td>\n",
       "      <td>-0.553006</td>\n",
       "      <td>3.030874</td>\n",
       "      <td>-1.303849</td>\n",
       "      <td>0.501984036</td>\n",
       "      <td>good</td>\n",
       "    </tr>\n",
       "  </tbody>\n",
       "</table>\n",
       "</div>"
      ],
      "text/plain": [
       "       Size    Weight  Sweetness  Crunchiness  Juiciness  Ripeness  \\\n",
       "0 -3.970049 -2.512336   5.346330    -1.012009   1.844900  0.329840   \n",
       "1 -1.195217 -2.839257   3.664059     1.588232   0.853286  0.867530   \n",
       "2 -0.292024 -1.351282  -1.738429    -0.342616   2.838636 -0.038033   \n",
       "3 -0.657196 -2.271627   1.324874    -0.097875   3.637970 -3.413761   \n",
       "4  1.364217 -1.296612  -0.384658    -0.553006   3.030874 -1.303849   \n",
       "\n",
       "        Acidity Quality  \n",
       "0  -0.491590483    good  \n",
       "1  -0.722809367    good  \n",
       "2   2.621636473     bad  \n",
       "3   0.790723217    good  \n",
       "4   0.501984036    good  "
      ]
     },
     "execution_count": 7,
     "metadata": {},
     "output_type": "execute_result"
    }
   ],
   "source": [
    "data = raw_data.drop(columns=[\"A_id\"])\n",
    "data.head()"
   ]
  },
  {
   "cell_type": "markdown",
   "id": "7e15fb5a",
   "metadata": {
    "papermill": {
     "duration": 0.011486,
     "end_time": "2025-07-15T15:03:32.095678",
     "exception": false,
     "start_time": "2025-07-15T15:03:32.084192",
     "status": "completed"
    },
    "tags": []
   },
   "source": [
    "Zgoraj lahko opazimo, da je v stolpcu Acidity ena vrstica več kot pri ostalih."
   ]
  },
  {
   "cell_type": "code",
   "execution_count": 8,
   "id": "d0b21866",
   "metadata": {
    "execution": {
     "iopub.execute_input": "2025-07-15T15:03:32.120793Z",
     "iopub.status.busy": "2025-07-15T15:03:32.120445Z",
     "iopub.status.idle": "2025-07-15T15:03:32.128150Z",
     "shell.execute_reply": "2025-07-15T15:03:32.127015Z"
    },
    "papermill": {
     "duration": 0.022163,
     "end_time": "2025-07-15T15:03:32.129741",
     "exception": false,
     "start_time": "2025-07-15T15:03:32.107578",
     "status": "completed"
    },
    "tags": []
   },
   "outputs": [
    {
     "data": {
      "text/plain": [
       "0                            -0.491590483\n",
       "1                            -0.722809367\n",
       "2                             2.621636473\n",
       "3                             0.790723217\n",
       "4                             0.501984036\n",
       "                      ...                \n",
       "3996                          1.854235285\n",
       "3997                         -1.334611391\n",
       "3998                         -2.229719806\n",
       "3999                          1.599796456\n",
       "4000    Created_by_Nidula_Elgiriyewithana\n",
       "Name: Acidity, Length: 4001, dtype: object"
      ]
     },
     "execution_count": 8,
     "metadata": {},
     "output_type": "execute_result"
    }
   ],
   "source": [
    "data[\"Acidity\"]"
   ]
  },
  {
   "cell_type": "markdown",
   "id": "2ea7807e",
   "metadata": {
    "papermill": {
     "duration": 0.01188,
     "end_time": "2025-07-15T15:03:32.155064",
     "exception": false,
     "start_time": "2025-07-15T15:03:32.143184",
     "status": "completed"
    },
    "tags": []
   },
   "source": [
    "Ker je 4000. vrstica moteča in bi mi v prihodnosti povzročala veliko težav, jo bom izbrisala."
   ]
  },
  {
   "cell_type": "code",
   "execution_count": 9,
   "id": "24665790",
   "metadata": {
    "execution": {
     "iopub.execute_input": "2025-07-15T15:03:32.180564Z",
     "iopub.status.busy": "2025-07-15T15:03:32.180152Z",
     "iopub.status.idle": "2025-07-15T15:03:32.190354Z",
     "shell.execute_reply": "2025-07-15T15:03:32.189277Z"
    },
    "papermill": {
     "duration": 0.025024,
     "end_time": "2025-07-15T15:03:32.192263",
     "exception": false,
     "start_time": "2025-07-15T15:03:32.167239",
     "status": "completed"
    },
    "tags": []
   },
   "outputs": [
    {
     "data": {
      "text/plain": [
       "0       -0.491590483\n",
       "1       -0.722809367\n",
       "2        2.621636473\n",
       "3        0.790723217\n",
       "4        0.501984036\n",
       "            ...     \n",
       "3995     0.137784369\n",
       "3996     1.854235285\n",
       "3997    -1.334611391\n",
       "3998    -2.229719806\n",
       "3999     1.599796456\n",
       "Name: Acidity, Length: 4000, dtype: object"
      ]
     },
     "execution_count": 9,
     "metadata": {},
     "output_type": "execute_result"
    }
   ],
   "source": [
    "data = data.drop(index=4000)\n",
    "data[\"Acidity\"]"
   ]
  },
  {
   "cell_type": "markdown",
   "id": "29fa1a07",
   "metadata": {
    "papermill": {
     "duration": 0.011782,
     "end_time": "2025-07-15T15:03:32.216379",
     "exception": false,
     "start_time": "2025-07-15T15:03:32.204597",
     "status": "completed"
    },
    "tags": []
   },
   "source": [
    "# Modeliranje"
   ]
  },
  {
   "cell_type": "markdown",
   "id": "43d121f4",
   "metadata": {
    "papermill": {
     "duration": 0.011751,
     "end_time": "2025-07-15T15:03:32.240113",
     "exception": false,
     "start_time": "2025-07-15T15:03:32.228362",
     "status": "completed"
    },
    "tags": []
   },
   "source": [
    "## Naive Bayes\n",
    "\n",
    "Naive Bayes je nabor metod za nadzorovano učenje, ki temeljijo na Bayesovem izreku s predpostavko o pogojni neodvisnosti med parametri. </br>\n",
    "Bayesov izrek:</br></br>\n",
    "        P(Y∣X) = ( P(X∣Y) * P(Y) ) / P(X)</br></br>\n",
    "\n",
    "Ker so moji podatki zvezni in iz zgornjih histogramov je razvidno da so v normalni porazdelitvi, sem se odločila za uporabo algoritma Gaussian Naive Bayes. \n",
    "\n",
    "Spodnja koda uvozi razreda train_test_split in GaussianNB iz knjižnice *scikit-learn*. Prvi nam omogoča deljenje podatkov v skupini za treniranje in testiranje. Slednji pa je klasifikacijski algoritem Gaussian Naive Bayes.\n"
   ]
  },
  {
   "cell_type": "code",
   "execution_count": 10,
   "id": "210d071b",
   "metadata": {
    "execution": {
     "iopub.execute_input": "2025-07-15T15:03:32.266057Z",
     "iopub.status.busy": "2025-07-15T15:03:32.265662Z",
     "iopub.status.idle": "2025-07-15T15:03:33.760287Z",
     "shell.execute_reply": "2025-07-15T15:03:33.759292Z"
    },
    "papermill": {
     "duration": 1.509913,
     "end_time": "2025-07-15T15:03:33.762267",
     "exception": false,
     "start_time": "2025-07-15T15:03:32.252354",
     "status": "completed"
    },
    "tags": []
   },
   "outputs": [],
   "source": [
    "from sklearn.model_selection import train_test_split\n",
    "from sklearn.naive_bayes import GaussianNB"
   ]
  },
  {
   "cell_type": "markdown",
   "id": "e5d6ff5d",
   "metadata": {
    "papermill": {
     "duration": 0.011963,
     "end_time": "2025-07-15T15:03:33.786947",
     "exception": false,
     "start_time": "2025-07-15T15:03:33.774984",
     "status": "completed"
    },
    "tags": []
   },
   "source": [
    "Ker ima scikit-learn težave z interpretiranjem dtype object v razredu, bom stolpec Quality spremenila v int (\"good\"==1, \"bad\"==0)."
   ]
  },
  {
   "cell_type": "code",
   "execution_count": 11,
   "id": "50dfa539",
   "metadata": {
    "execution": {
     "iopub.execute_input": "2025-07-15T15:03:33.812896Z",
     "iopub.status.busy": "2025-07-15T15:03:33.812272Z",
     "iopub.status.idle": "2025-07-15T15:03:33.820186Z",
     "shell.execute_reply": "2025-07-15T15:03:33.819092Z"
    },
    "papermill": {
     "duration": 0.022963,
     "end_time": "2025-07-15T15:03:33.822187",
     "exception": false,
     "start_time": "2025-07-15T15:03:33.799224",
     "status": "completed"
    },
    "tags": []
   },
   "outputs": [
    {
     "data": {
      "text/plain": [
       "0       good\n",
       "1       good\n",
       "2        bad\n",
       "3       good\n",
       "4       good\n",
       "        ... \n",
       "3995     bad\n",
       "3996    good\n",
       "3997     bad\n",
       "3998    good\n",
       "3999    good\n",
       "Name: Quality, Length: 4000, dtype: object"
      ]
     },
     "execution_count": 11,
     "metadata": {},
     "output_type": "execute_result"
    }
   ],
   "source": [
    "data[\"Quality\"]"
   ]
  },
  {
   "cell_type": "code",
   "execution_count": 12,
   "id": "e021a2df",
   "metadata": {
    "execution": {
     "iopub.execute_input": "2025-07-15T15:03:33.847678Z",
     "iopub.status.busy": "2025-07-15T15:03:33.847317Z",
     "iopub.status.idle": "2025-07-15T15:03:33.857229Z",
     "shell.execute_reply": "2025-07-15T15:03:33.855258Z"
    },
    "papermill": {
     "duration": 0.024816,
     "end_time": "2025-07-15T15:03:33.859130",
     "exception": false,
     "start_time": "2025-07-15T15:03:33.834314",
     "status": "completed"
    },
    "tags": []
   },
   "outputs": [
    {
     "data": {
      "text/plain": [
       "0       1\n",
       "1       1\n",
       "2       0\n",
       "3       1\n",
       "4       1\n",
       "       ..\n",
       "3995    0\n",
       "3996    1\n",
       "3997    0\n",
       "3998    1\n",
       "3999    1\n",
       "Name: Quality, Length: 4000, dtype: int64"
      ]
     },
     "execution_count": 12,
     "metadata": {},
     "output_type": "execute_result"
    }
   ],
   "source": [
    "data[\"Quality\"] = data[\"Quality\"].map({\"good\": 1, \"bad\": 0})\n",
    "data[\"Quality\"]"
   ]
  },
  {
   "cell_type": "markdown",
   "id": "fd4878d6",
   "metadata": {
    "papermill": {
     "duration": 0.011904,
     "end_time": "2025-07-15T15:03:33.883493",
     "exception": false,
     "start_time": "2025-07-15T15:03:33.871589",
     "status": "completed"
    },
    "tags": []
   },
   "source": [
    "Spodnja koda loči ciljno spremenljivko (Quality) v Y in shrani preostale vrednosti v X. Model mora napovedati, ali je jabolko kakovostno ali ne, zato vrednost Quality ohranimo kot našo izhodno spremenljivko (Y). Preostale podatke uporabimo kot vhodne značilnosti (X) za učenje modela."
   ]
  },
  {
   "cell_type": "code",
   "execution_count": 13,
   "id": "0ef5da0a",
   "metadata": {
    "execution": {
     "iopub.execute_input": "2025-07-15T15:03:33.909302Z",
     "iopub.status.busy": "2025-07-15T15:03:33.908906Z",
     "iopub.status.idle": "2025-07-15T15:03:33.917035Z",
     "shell.execute_reply": "2025-07-15T15:03:33.916082Z"
    },
    "papermill": {
     "duration": 0.02311,
     "end_time": "2025-07-15T15:03:33.918841",
     "exception": false,
     "start_time": "2025-07-15T15:03:33.895731",
     "status": "completed"
    },
    "tags": []
   },
   "outputs": [
    {
     "data": {
      "text/plain": [
       "0    1\n",
       "1    1\n",
       "2    0\n",
       "3    1\n",
       "4    1\n",
       "Name: Quality, dtype: int64"
      ]
     },
     "execution_count": 13,
     "metadata": {},
     "output_type": "execute_result"
    }
   ],
   "source": [
    "Y = data[\"Quality\"]\n",
    "X = data.drop(columns=[\"Quality\"])\n",
    "\n",
    "Y.head()"
   ]
  },
  {
   "cell_type": "code",
   "execution_count": 14,
   "id": "f76fa8c4",
   "metadata": {
    "execution": {
     "iopub.execute_input": "2025-07-15T15:03:33.944925Z",
     "iopub.status.busy": "2025-07-15T15:03:33.944576Z",
     "iopub.status.idle": "2025-07-15T15:03:33.956986Z",
     "shell.execute_reply": "2025-07-15T15:03:33.956083Z"
    },
    "papermill": {
     "duration": 0.027422,
     "end_time": "2025-07-15T15:03:33.958792",
     "exception": false,
     "start_time": "2025-07-15T15:03:33.931370",
     "status": "completed"
    },
    "tags": []
   },
   "outputs": [
    {
     "data": {
      "text/html": [
       "<div>\n",
       "<style scoped>\n",
       "    .dataframe tbody tr th:only-of-type {\n",
       "        vertical-align: middle;\n",
       "    }\n",
       "\n",
       "    .dataframe tbody tr th {\n",
       "        vertical-align: top;\n",
       "    }\n",
       "\n",
       "    .dataframe thead th {\n",
       "        text-align: right;\n",
       "    }\n",
       "</style>\n",
       "<table border=\"1\" class=\"dataframe\">\n",
       "  <thead>\n",
       "    <tr style=\"text-align: right;\">\n",
       "      <th></th>\n",
       "      <th>Size</th>\n",
       "      <th>Weight</th>\n",
       "      <th>Sweetness</th>\n",
       "      <th>Crunchiness</th>\n",
       "      <th>Juiciness</th>\n",
       "      <th>Ripeness</th>\n",
       "      <th>Acidity</th>\n",
       "    </tr>\n",
       "  </thead>\n",
       "  <tbody>\n",
       "    <tr>\n",
       "      <th>0</th>\n",
       "      <td>-3.970049</td>\n",
       "      <td>-2.512336</td>\n",
       "      <td>5.346330</td>\n",
       "      <td>-1.012009</td>\n",
       "      <td>1.844900</td>\n",
       "      <td>0.329840</td>\n",
       "      <td>-0.491590483</td>\n",
       "    </tr>\n",
       "    <tr>\n",
       "      <th>1</th>\n",
       "      <td>-1.195217</td>\n",
       "      <td>-2.839257</td>\n",
       "      <td>3.664059</td>\n",
       "      <td>1.588232</td>\n",
       "      <td>0.853286</td>\n",
       "      <td>0.867530</td>\n",
       "      <td>-0.722809367</td>\n",
       "    </tr>\n",
       "    <tr>\n",
       "      <th>2</th>\n",
       "      <td>-0.292024</td>\n",
       "      <td>-1.351282</td>\n",
       "      <td>-1.738429</td>\n",
       "      <td>-0.342616</td>\n",
       "      <td>2.838636</td>\n",
       "      <td>-0.038033</td>\n",
       "      <td>2.621636473</td>\n",
       "    </tr>\n",
       "    <tr>\n",
       "      <th>3</th>\n",
       "      <td>-0.657196</td>\n",
       "      <td>-2.271627</td>\n",
       "      <td>1.324874</td>\n",
       "      <td>-0.097875</td>\n",
       "      <td>3.637970</td>\n",
       "      <td>-3.413761</td>\n",
       "      <td>0.790723217</td>\n",
       "    </tr>\n",
       "    <tr>\n",
       "      <th>4</th>\n",
       "      <td>1.364217</td>\n",
       "      <td>-1.296612</td>\n",
       "      <td>-0.384658</td>\n",
       "      <td>-0.553006</td>\n",
       "      <td>3.030874</td>\n",
       "      <td>-1.303849</td>\n",
       "      <td>0.501984036</td>\n",
       "    </tr>\n",
       "  </tbody>\n",
       "</table>\n",
       "</div>"
      ],
      "text/plain": [
       "       Size    Weight  Sweetness  Crunchiness  Juiciness  Ripeness  \\\n",
       "0 -3.970049 -2.512336   5.346330    -1.012009   1.844900  0.329840   \n",
       "1 -1.195217 -2.839257   3.664059     1.588232   0.853286  0.867530   \n",
       "2 -0.292024 -1.351282  -1.738429    -0.342616   2.838636 -0.038033   \n",
       "3 -0.657196 -2.271627   1.324874    -0.097875   3.637970 -3.413761   \n",
       "4  1.364217 -1.296612  -0.384658    -0.553006   3.030874 -1.303849   \n",
       "\n",
       "        Acidity  \n",
       "0  -0.491590483  \n",
       "1  -0.722809367  \n",
       "2   2.621636473  \n",
       "3   0.790723217  \n",
       "4   0.501984036  "
      ]
     },
     "execution_count": 14,
     "metadata": {},
     "output_type": "execute_result"
    }
   ],
   "source": [
    "X.head()"
   ]
  },
  {
   "cell_type": "markdown",
   "id": "5bf4743f",
   "metadata": {
    "papermill": {
     "duration": 0.012481,
     "end_time": "2025-07-15T15:03:33.984095",
     "exception": false,
     "start_time": "2025-07-15T15:03:33.971614",
     "status": "completed"
    },
    "tags": []
   },
   "source": [
    "Koda razdeli vrednosti spremenljivk (X) in razreda (Y) v učno in testno skupino, tako da za testiranje uporabi 20% podatkov. Razdelitev podatkov zagotavlja, da imamo ločene nabore za učenje in ocenjevanje delovanja modela. Z nastavitvijo fiksnega random_state omogočimo ponovljivost razdelitve za dosledne rezultate pri vsakem ponavljanju."
   ]
  },
  {
   "cell_type": "code",
   "execution_count": 15,
   "id": "ca89b30f",
   "metadata": {
    "execution": {
     "iopub.execute_input": "2025-07-15T15:03:34.011045Z",
     "iopub.status.busy": "2025-07-15T15:03:34.010621Z",
     "iopub.status.idle": "2025-07-15T15:03:34.018013Z",
     "shell.execute_reply": "2025-07-15T15:03:34.016957Z"
    },
    "papermill": {
     "duration": 0.023023,
     "end_time": "2025-07-15T15:03:34.019849",
     "exception": false,
     "start_time": "2025-07-15T15:03:33.996826",
     "status": "completed"
    },
    "tags": []
   },
   "outputs": [],
   "source": [
    "train_X, test_X, train_Y, test_Y = train_test_split(X, Y, test_size=0.2, random_state=12)"
   ]
  },
  {
   "cell_type": "code",
   "execution_count": 16,
   "id": "360ebd7b",
   "metadata": {
    "execution": {
     "iopub.execute_input": "2025-07-15T15:03:34.046108Z",
     "iopub.status.busy": "2025-07-15T15:03:34.045705Z",
     "iopub.status.idle": "2025-07-15T15:03:34.070314Z",
     "shell.execute_reply": "2025-07-15T15:03:34.069308Z"
    },
    "papermill": {
     "duration": 0.039758,
     "end_time": "2025-07-15T15:03:34.072141",
     "exception": false,
     "start_time": "2025-07-15T15:03:34.032383",
     "status": "completed"
    },
    "tags": []
   },
   "outputs": [
    {
     "data": {
      "text/html": [
       "<div>\n",
       "<style scoped>\n",
       "    .dataframe tbody tr th:only-of-type {\n",
       "        vertical-align: middle;\n",
       "    }\n",
       "\n",
       "    .dataframe tbody tr th {\n",
       "        vertical-align: top;\n",
       "    }\n",
       "\n",
       "    .dataframe thead th {\n",
       "        text-align: right;\n",
       "    }\n",
       "</style>\n",
       "<table border=\"1\" class=\"dataframe\">\n",
       "  <thead>\n",
       "    <tr style=\"text-align: right;\">\n",
       "      <th></th>\n",
       "      <th>Size</th>\n",
       "      <th>Weight</th>\n",
       "      <th>Sweetness</th>\n",
       "      <th>Crunchiness</th>\n",
       "      <th>Juiciness</th>\n",
       "      <th>Ripeness</th>\n",
       "    </tr>\n",
       "  </thead>\n",
       "  <tbody>\n",
       "    <tr>\n",
       "      <th>count</th>\n",
       "      <td>3200.000000</td>\n",
       "      <td>3200.000000</td>\n",
       "      <td>3200.000000</td>\n",
       "      <td>3200.000000</td>\n",
       "      <td>3200.000000</td>\n",
       "      <td>3200.000000</td>\n",
       "    </tr>\n",
       "    <tr>\n",
       "      <th>mean</th>\n",
       "      <td>-0.486127</td>\n",
       "      <td>-0.962210</td>\n",
       "      <td>-0.500357</td>\n",
       "      <td>0.971063</td>\n",
       "      <td>0.520517</td>\n",
       "      <td>0.490001</td>\n",
       "    </tr>\n",
       "    <tr>\n",
       "      <th>std</th>\n",
       "      <td>1.925434</td>\n",
       "      <td>1.594456</td>\n",
       "      <td>1.925915</td>\n",
       "      <td>1.404146</td>\n",
       "      <td>1.947829</td>\n",
       "      <td>1.861065</td>\n",
       "    </tr>\n",
       "    <tr>\n",
       "      <th>min</th>\n",
       "      <td>-6.905803</td>\n",
       "      <td>-7.149848</td>\n",
       "      <td>-5.958315</td>\n",
       "      <td>-6.055058</td>\n",
       "      <td>-5.961897</td>\n",
       "      <td>-5.864599</td>\n",
       "    </tr>\n",
       "    <tr>\n",
       "      <th>25%</th>\n",
       "      <td>-1.800593</td>\n",
       "      <td>-1.971981</td>\n",
       "      <td>-1.772397</td>\n",
       "      <td>0.052404</td>\n",
       "      <td>-0.814694</td>\n",
       "      <td>-0.765048</td>\n",
       "    </tr>\n",
       "    <tr>\n",
       "      <th>50%</th>\n",
       "      <td>-0.485574</td>\n",
       "      <td>-0.951315</td>\n",
       "      <td>-0.533888</td>\n",
       "      <td>0.978620</td>\n",
       "      <td>0.580381</td>\n",
       "      <td>0.487710</td>\n",
       "    </tr>\n",
       "    <tr>\n",
       "      <th>75%</th>\n",
       "      <td>0.839710</td>\n",
       "      <td>0.083999</td>\n",
       "      <td>0.772464</td>\n",
       "      <td>1.877179</td>\n",
       "      <td>1.846293</td>\n",
       "      <td>1.747032</td>\n",
       "    </tr>\n",
       "    <tr>\n",
       "      <th>max</th>\n",
       "      <td>6.406367</td>\n",
       "      <td>4.738227</td>\n",
       "      <td>5.612644</td>\n",
       "      <td>7.619852</td>\n",
       "      <td>7.364403</td>\n",
       "      <td>7.237837</td>\n",
       "    </tr>\n",
       "  </tbody>\n",
       "</table>\n",
       "</div>"
      ],
      "text/plain": [
       "              Size       Weight    Sweetness  Crunchiness    Juiciness  \\\n",
       "count  3200.000000  3200.000000  3200.000000  3200.000000  3200.000000   \n",
       "mean     -0.486127    -0.962210    -0.500357     0.971063     0.520517   \n",
       "std       1.925434     1.594456     1.925915     1.404146     1.947829   \n",
       "min      -6.905803    -7.149848    -5.958315    -6.055058    -5.961897   \n",
       "25%      -1.800593    -1.971981    -1.772397     0.052404    -0.814694   \n",
       "50%      -0.485574    -0.951315    -0.533888     0.978620     0.580381   \n",
       "75%       0.839710     0.083999     0.772464     1.877179     1.846293   \n",
       "max       6.406367     4.738227     5.612644     7.619852     7.364403   \n",
       "\n",
       "          Ripeness  \n",
       "count  3200.000000  \n",
       "mean      0.490001  \n",
       "std       1.861065  \n",
       "min      -5.864599  \n",
       "25%      -0.765048  \n",
       "50%       0.487710  \n",
       "75%       1.747032  \n",
       "max       7.237837  "
      ]
     },
     "execution_count": 16,
     "metadata": {},
     "output_type": "execute_result"
    }
   ],
   "source": [
    "train_X.describe()"
   ]
  },
  {
   "cell_type": "code",
   "execution_count": 17,
   "id": "370ebc47",
   "metadata": {
    "execution": {
     "iopub.execute_input": "2025-07-15T15:03:34.099104Z",
     "iopub.status.busy": "2025-07-15T15:03:34.098697Z",
     "iopub.status.idle": "2025-07-15T15:03:34.123982Z",
     "shell.execute_reply": "2025-07-15T15:03:34.122824Z"
    },
    "papermill": {
     "duration": 0.04073,
     "end_time": "2025-07-15T15:03:34.125732",
     "exception": false,
     "start_time": "2025-07-15T15:03:34.085002",
     "status": "completed"
    },
    "tags": []
   },
   "outputs": [
    {
     "data": {
      "text/html": [
       "<div>\n",
       "<style scoped>\n",
       "    .dataframe tbody tr th:only-of-type {\n",
       "        vertical-align: middle;\n",
       "    }\n",
       "\n",
       "    .dataframe tbody tr th {\n",
       "        vertical-align: top;\n",
       "    }\n",
       "\n",
       "    .dataframe thead th {\n",
       "        text-align: right;\n",
       "    }\n",
       "</style>\n",
       "<table border=\"1\" class=\"dataframe\">\n",
       "  <thead>\n",
       "    <tr style=\"text-align: right;\">\n",
       "      <th></th>\n",
       "      <th>Size</th>\n",
       "      <th>Weight</th>\n",
       "      <th>Sweetness</th>\n",
       "      <th>Crunchiness</th>\n",
       "      <th>Juiciness</th>\n",
       "      <th>Ripeness</th>\n",
       "    </tr>\n",
       "  </thead>\n",
       "  <tbody>\n",
       "    <tr>\n",
       "      <th>count</th>\n",
       "      <td>800.000000</td>\n",
       "      <td>800.000000</td>\n",
       "      <td>800.000000</td>\n",
       "      <td>800.000000</td>\n",
       "      <td>800.000000</td>\n",
       "      <td>800.000000</td>\n",
       "    </tr>\n",
       "    <tr>\n",
       "      <th>mean</th>\n",
       "      <td>-0.570566</td>\n",
       "      <td>-1.098892</td>\n",
       "      <td>-0.350965</td>\n",
       "      <td>1.043136</td>\n",
       "      <td>0.478523</td>\n",
       "      <td>0.531383</td>\n",
       "    </tr>\n",
       "    <tr>\n",
       "      <th>std</th>\n",
       "      <td>1.938259</td>\n",
       "      <td>1.630745</td>\n",
       "      <td>2.008810</td>\n",
       "      <td>1.396574</td>\n",
       "      <td>1.859261</td>\n",
       "      <td>1.927783</td>\n",
       "    </tr>\n",
       "    <tr>\n",
       "      <th>min</th>\n",
       "      <td>-7.151703</td>\n",
       "      <td>-6.556685</td>\n",
       "      <td>-6.894485</td>\n",
       "      <td>-4.495359</td>\n",
       "      <td>-5.544053</td>\n",
       "      <td>-5.611400</td>\n",
       "    </tr>\n",
       "    <tr>\n",
       "      <th>25%</th>\n",
       "      <td>-1.879265</td>\n",
       "      <td>-2.087606</td>\n",
       "      <td>-1.613262</td>\n",
       "      <td>0.155195</td>\n",
       "      <td>-0.719510</td>\n",
       "      <td>-0.799577</td>\n",
       "    </tr>\n",
       "    <tr>\n",
       "      <th>50%</th>\n",
       "      <td>-0.612517</td>\n",
       "      <td>-1.106378</td>\n",
       "      <td>-0.414633</td>\n",
       "      <td>1.095643</td>\n",
       "      <td>0.418372</td>\n",
       "      <td>0.609667</td>\n",
       "    </tr>\n",
       "    <tr>\n",
       "      <th>75%</th>\n",
       "      <td>0.684390</td>\n",
       "      <td>-0.164458</td>\n",
       "      <td>0.947628</td>\n",
       "      <td>1.948051</td>\n",
       "      <td>1.746573</td>\n",
       "      <td>1.831942</td>\n",
       "    </tr>\n",
       "    <tr>\n",
       "      <th>max</th>\n",
       "      <td>5.866232</td>\n",
       "      <td>5.790714</td>\n",
       "      <td>6.374916</td>\n",
       "      <td>6.110621</td>\n",
       "      <td>5.812242</td>\n",
       "      <td>6.346445</td>\n",
       "    </tr>\n",
       "  </tbody>\n",
       "</table>\n",
       "</div>"
      ],
      "text/plain": [
       "             Size      Weight   Sweetness  Crunchiness   Juiciness    Ripeness\n",
       "count  800.000000  800.000000  800.000000   800.000000  800.000000  800.000000\n",
       "mean    -0.570566   -1.098892   -0.350965     1.043136    0.478523    0.531383\n",
       "std      1.938259    1.630745    2.008810     1.396574    1.859261    1.927783\n",
       "min     -7.151703   -6.556685   -6.894485    -4.495359   -5.544053   -5.611400\n",
       "25%     -1.879265   -2.087606   -1.613262     0.155195   -0.719510   -0.799577\n",
       "50%     -0.612517   -1.106378   -0.414633     1.095643    0.418372    0.609667\n",
       "75%      0.684390   -0.164458    0.947628     1.948051    1.746573    1.831942\n",
       "max      5.866232    5.790714    6.374916     6.110621    5.812242    6.346445"
      ]
     },
     "execution_count": 17,
     "metadata": {},
     "output_type": "execute_result"
    }
   ],
   "source": [
    "test_X.describe()"
   ]
  },
  {
   "cell_type": "code",
   "execution_count": 18,
   "id": "c2b7ca3e",
   "metadata": {
    "execution": {
     "iopub.execute_input": "2025-07-15T15:03:34.153401Z",
     "iopub.status.busy": "2025-07-15T15:03:34.152952Z",
     "iopub.status.idle": "2025-07-15T15:03:34.162335Z",
     "shell.execute_reply": "2025-07-15T15:03:34.161038Z"
    },
    "papermill": {
     "duration": 0.024891,
     "end_time": "2025-07-15T15:03:34.163983",
     "exception": false,
     "start_time": "2025-07-15T15:03:34.139092",
     "status": "completed"
    },
    "tags": []
   },
   "outputs": [
    {
     "name": "stdout",
     "output_type": "stream",
     "text": [
      "<class 'pandas.core.series.Series'>\n",
      "Index: 3200 entries, 3655 to 1867\n",
      "Series name: Quality\n",
      "Non-Null Count  Dtype\n",
      "--------------  -----\n",
      "3200 non-null   int64\n",
      "dtypes: int64(1)\n",
      "memory usage: 50.0 KB\n"
     ]
    }
   ],
   "source": [
    "train_Y.info()"
   ]
  },
  {
   "cell_type": "markdown",
   "id": "cf2c8ccc",
   "metadata": {
    "papermill": {
     "duration": 0.01302,
     "end_time": "2025-07-15T15:03:34.190170",
     "exception": false,
     "start_time": "2025-07-15T15:03:34.177150",
     "status": "completed"
    },
    "tags": []
   },
   "source": [
    "### Učenje/Treniranje\n",
    "Spodnja koda ustvari Gaussov naivni Bayesov klasifikator (gnb), ki ga nato nauči na učnih podatkih z uporabo metode prileganja ( *gnb.fit(train_X, train_Y)* )."
   ]
  },
  {
   "cell_type": "code",
   "execution_count": 19,
   "id": "553de3f8",
   "metadata": {
    "execution": {
     "iopub.execute_input": "2025-07-15T15:03:34.217515Z",
     "iopub.status.busy": "2025-07-15T15:03:34.217109Z",
     "iopub.status.idle": "2025-07-15T15:03:34.234168Z",
     "shell.execute_reply": "2025-07-15T15:03:34.233140Z"
    },
    "papermill": {
     "duration": 0.032779,
     "end_time": "2025-07-15T15:03:34.236050",
     "exception": false,
     "start_time": "2025-07-15T15:03:34.203271",
     "status": "completed"
    },
    "tags": []
   },
   "outputs": [
    {
     "data": {
      "text/html": [
       "<style>#sk-container-id-1 {color: black;background-color: white;}#sk-container-id-1 pre{padding: 0;}#sk-container-id-1 div.sk-toggleable {background-color: white;}#sk-container-id-1 label.sk-toggleable__label {cursor: pointer;display: block;width: 100%;margin-bottom: 0;padding: 0.3em;box-sizing: border-box;text-align: center;}#sk-container-id-1 label.sk-toggleable__label-arrow:before {content: \"▸\";float: left;margin-right: 0.25em;color: #696969;}#sk-container-id-1 label.sk-toggleable__label-arrow:hover:before {color: black;}#sk-container-id-1 div.sk-estimator:hover label.sk-toggleable__label-arrow:before {color: black;}#sk-container-id-1 div.sk-toggleable__content {max-height: 0;max-width: 0;overflow: hidden;text-align: left;background-color: #f0f8ff;}#sk-container-id-1 div.sk-toggleable__content pre {margin: 0.2em;color: black;border-radius: 0.25em;background-color: #f0f8ff;}#sk-container-id-1 input.sk-toggleable__control:checked~div.sk-toggleable__content {max-height: 200px;max-width: 100%;overflow: auto;}#sk-container-id-1 input.sk-toggleable__control:checked~label.sk-toggleable__label-arrow:before {content: \"▾\";}#sk-container-id-1 div.sk-estimator input.sk-toggleable__control:checked~label.sk-toggleable__label {background-color: #d4ebff;}#sk-container-id-1 div.sk-label input.sk-toggleable__control:checked~label.sk-toggleable__label {background-color: #d4ebff;}#sk-container-id-1 input.sk-hidden--visually {border: 0;clip: rect(1px 1px 1px 1px);clip: rect(1px, 1px, 1px, 1px);height: 1px;margin: -1px;overflow: hidden;padding: 0;position: absolute;width: 1px;}#sk-container-id-1 div.sk-estimator {font-family: monospace;background-color: #f0f8ff;border: 1px dotted black;border-radius: 0.25em;box-sizing: border-box;margin-bottom: 0.5em;}#sk-container-id-1 div.sk-estimator:hover {background-color: #d4ebff;}#sk-container-id-1 div.sk-parallel-item::after {content: \"\";width: 100%;border-bottom: 1px solid gray;flex-grow: 1;}#sk-container-id-1 div.sk-label:hover label.sk-toggleable__label {background-color: #d4ebff;}#sk-container-id-1 div.sk-serial::before {content: \"\";position: absolute;border-left: 1px solid gray;box-sizing: border-box;top: 0;bottom: 0;left: 50%;z-index: 0;}#sk-container-id-1 div.sk-serial {display: flex;flex-direction: column;align-items: center;background-color: white;padding-right: 0.2em;padding-left: 0.2em;position: relative;}#sk-container-id-1 div.sk-item {position: relative;z-index: 1;}#sk-container-id-1 div.sk-parallel {display: flex;align-items: stretch;justify-content: center;background-color: white;position: relative;}#sk-container-id-1 div.sk-item::before, #sk-container-id-1 div.sk-parallel-item::before {content: \"\";position: absolute;border-left: 1px solid gray;box-sizing: border-box;top: 0;bottom: 0;left: 50%;z-index: -1;}#sk-container-id-1 div.sk-parallel-item {display: flex;flex-direction: column;z-index: 1;position: relative;background-color: white;}#sk-container-id-1 div.sk-parallel-item:first-child::after {align-self: flex-end;width: 50%;}#sk-container-id-1 div.sk-parallel-item:last-child::after {align-self: flex-start;width: 50%;}#sk-container-id-1 div.sk-parallel-item:only-child::after {width: 0;}#sk-container-id-1 div.sk-dashed-wrapped {border: 1px dashed gray;margin: 0 0.4em 0.5em 0.4em;box-sizing: border-box;padding-bottom: 0.4em;background-color: white;}#sk-container-id-1 div.sk-label label {font-family: monospace;font-weight: bold;display: inline-block;line-height: 1.2em;}#sk-container-id-1 div.sk-label-container {text-align: center;}#sk-container-id-1 div.sk-container {/* jupyter's `normalize.less` sets `[hidden] { display: none; }` but bootstrap.min.css set `[hidden] { display: none !important; }` so we also need the `!important` here to be able to override the default hidden behavior on the sphinx rendered scikit-learn.org. See: https://github.com/scikit-learn/scikit-learn/issues/21755 */display: inline-block !important;position: relative;}#sk-container-id-1 div.sk-text-repr-fallback {display: none;}</style><div id=\"sk-container-id-1\" class=\"sk-top-container\"><div class=\"sk-text-repr-fallback\"><pre>GaussianNB()</pre><b>In a Jupyter environment, please rerun this cell to show the HTML representation or trust the notebook. <br />On GitHub, the HTML representation is unable to render, please try loading this page with nbviewer.org.</b></div><div class=\"sk-container\" hidden><div class=\"sk-item\"><div class=\"sk-estimator sk-toggleable\"><input class=\"sk-toggleable__control sk-hidden--visually\" id=\"sk-estimator-id-1\" type=\"checkbox\" checked><label for=\"sk-estimator-id-1\" class=\"sk-toggleable__label sk-toggleable__label-arrow\">GaussianNB</label><div class=\"sk-toggleable__content\"><pre>GaussianNB()</pre></div></div></div></div></div>"
      ],
      "text/plain": [
       "GaussianNB()"
      ]
     },
     "execution_count": 19,
     "metadata": {},
     "output_type": "execute_result"
    }
   ],
   "source": [
    "gnb = GaussianNB()\n",
    "gnb.fit(train_X, train_Y)"
   ]
  },
  {
   "cell_type": "markdown",
   "id": "bc0acd85",
   "metadata": {
    "papermill": {
     "duration": 0.013523,
     "end_time": "2025-07-15T15:03:34.263598",
     "exception": false,
     "start_time": "2025-07-15T15:03:34.250075",
     "status": "completed"
    },
    "tags": []
   },
   "source": [
    "### Testiranje\n",
    "Spodnja koda uporablja zgoraj naučen model za generiranje napovedi (pred_y) za testne podatke (test_X) in nato prikaže napovedane vrednosti. Z napovedmi za test_X lahko vidimo, kako dobro model deluje na podatkih, ki jih še ni videl. S primerjavo napovedanih razredov z dejanskimi lahko ocenimo kakovost delovanjea modela."
   ]
  },
  {
   "cell_type": "code",
   "execution_count": 20,
   "id": "4decdac6",
   "metadata": {
    "execution": {
     "iopub.execute_input": "2025-07-15T15:03:34.351095Z",
     "iopub.status.busy": "2025-07-15T15:03:34.350714Z",
     "iopub.status.idle": "2025-07-15T15:03:34.364157Z",
     "shell.execute_reply": "2025-07-15T15:03:34.363197Z"
    },
    "papermill": {
     "duration": 0.088793,
     "end_time": "2025-07-15T15:03:34.365755",
     "exception": false,
     "start_time": "2025-07-15T15:03:34.276962",
     "status": "completed"
    },
    "tags": []
   },
   "outputs": [
    {
     "data": {
      "text/plain": [
       "array([0, 0, 0, 0, 1, 1, 0, 0, 0, 0, 0, 1, 0, 0, 0, 0, 0, 0, 0, 1, 0, 0,\n",
       "       0, 0, 1, 1, 1, 1, 1, 0, 1, 0, 0, 0, 1, 0, 1, 0, 0, 0, 0, 0, 1, 1,\n",
       "       0, 1, 1, 1, 0, 0, 0, 0, 1, 1, 1, 1, 0, 0, 0, 1, 1, 0, 0, 0, 1, 1,\n",
       "       1, 0, 0, 0, 1, 0, 0, 1, 1, 1, 0, 1, 1, 1, 0, 0, 1, 1, 1, 0, 0, 0,\n",
       "       1, 1, 0, 0, 0, 0, 1, 0, 1, 1, 0, 1, 0, 1, 1, 1, 0, 1, 0, 1, 0, 0,\n",
       "       0, 1, 1, 1, 0, 1, 1, 1, 0, 1, 0, 0, 1, 1, 1, 1, 1, 1, 1, 0, 1, 0,\n",
       "       0, 0, 0, 1, 1, 0, 1, 0, 1, 1, 1, 0, 1, 1, 0, 0, 0, 0, 0, 1, 1, 0,\n",
       "       1, 0, 0, 1, 0, 1, 1, 1, 0, 1, 0, 0, 0, 1, 0, 1, 1, 1, 0, 0, 1, 0,\n",
       "       0, 0, 0, 0, 1, 0, 0, 1, 1, 0, 0, 0, 1, 1, 1, 0, 0, 1, 1, 1, 1, 1,\n",
       "       1, 1, 0, 0, 0, 0, 1, 1, 1, 1, 0, 1, 0, 0, 1, 1, 0, 0, 0, 0, 0, 1,\n",
       "       1, 1, 0, 0, 1, 0, 1, 1, 1, 0, 1, 0, 0, 1, 0, 1, 0, 1, 0, 0, 0, 0,\n",
       "       1, 0, 0, 0, 0, 0, 1, 1, 1, 1, 0, 1, 1, 1, 1, 0, 0, 1, 1, 0, 1, 0,\n",
       "       1, 1, 0, 0, 0, 0, 1, 1, 0, 0, 0, 1, 0, 0, 1, 0, 0, 0, 0, 0, 0, 1,\n",
       "       1, 1, 1, 0, 0, 1, 1, 1, 0, 1, 1, 0, 1, 1, 1, 0, 0, 0, 1, 1, 1, 0,\n",
       "       1, 0, 1, 0, 0, 0, 1, 0, 1, 0, 1, 1, 0, 0, 0, 1, 0, 0, 1, 1, 1, 0,\n",
       "       0, 1, 0, 1, 0, 1, 1, 0, 0, 0, 0, 0, 1, 0, 0, 1, 1, 1, 0, 0, 0, 1,\n",
       "       0, 0, 0, 1, 1, 1, 0, 1, 1, 1, 1, 0, 0, 1, 1, 0, 0, 0, 0, 0, 1, 0,\n",
       "       1, 0, 0, 0, 1, 0, 1, 1, 0, 1, 1, 0, 0, 0, 1, 0, 1, 1, 0, 0, 0, 1,\n",
       "       1, 0, 1, 1, 1, 1, 1, 0, 0, 1, 1, 0, 1, 1, 0, 0, 0, 0, 1, 1, 1, 0,\n",
       "       1, 1, 0, 0, 0, 1, 0, 0, 0, 0, 1, 0, 1, 1, 0, 1, 1, 0, 0, 0, 0, 1,\n",
       "       0, 0, 0, 1, 1, 1, 1, 0, 1, 0, 1, 1, 1, 0, 1, 1, 0, 0, 1, 1, 1, 0,\n",
       "       0, 0, 1, 1, 1, 1, 0, 0, 0, 1, 0, 0, 1, 0, 0, 0, 1, 0, 0, 0, 0, 1,\n",
       "       1, 0, 1, 0, 0, 0, 0, 1, 0, 0, 1, 1, 1, 1, 0, 1, 1, 1, 1, 1, 1, 0,\n",
       "       1, 1, 1, 1, 0, 0, 0, 0, 0, 1, 1, 0, 1, 1, 1, 1, 1, 1, 0, 0, 1, 0,\n",
       "       1, 1, 0, 0, 1, 0, 0, 0, 1, 0, 0, 1, 1, 1, 0, 0, 0, 0, 1, 0, 1, 1,\n",
       "       1, 1, 1, 1, 1, 1, 0, 1, 1, 0, 0, 0, 0, 1, 1, 0, 0, 0, 1, 1, 1, 0,\n",
       "       1, 0, 0, 0, 1, 0, 0, 1, 1, 0, 1, 0, 1, 1, 0, 0, 0, 0, 1, 1, 1, 1,\n",
       "       1, 1, 1, 0, 1, 1, 1, 0, 1, 0, 0, 1, 0, 1, 0, 1, 1, 1, 1, 0, 0, 0,\n",
       "       1, 0, 0, 1, 0, 1, 0, 0, 0, 0, 0, 0, 0, 1, 1, 0, 0, 0, 0, 1, 1, 0,\n",
       "       1, 0, 1, 0, 0, 1, 0, 0, 1, 0, 1, 1, 1, 1, 1, 1, 0, 0, 0, 1, 1, 1,\n",
       "       0, 0, 0, 0, 1, 0, 1, 0, 1, 1, 1, 1, 1, 1, 1, 0, 0, 0, 0, 1, 0, 0,\n",
       "       0, 0, 1, 0, 1, 0, 0, 0, 1, 1, 1, 1, 1, 0, 0, 1, 0, 0, 1, 1, 1, 1,\n",
       "       1, 0, 0, 0, 0, 1, 0, 1, 0, 1, 1, 1, 0, 0, 0, 1, 1, 0, 1, 1, 1, 0,\n",
       "       1, 0, 1, 1, 1, 1, 1, 1, 1, 1, 0, 0, 1, 0, 0, 0, 0, 1, 1, 0, 0, 1,\n",
       "       0, 1, 0, 0, 0, 1, 1, 0, 0, 1, 0, 1, 0, 1, 1, 0, 1, 0, 1, 0, 1, 0,\n",
       "       1, 0, 1, 0, 1, 1, 1, 0, 1, 1, 0, 0, 1, 1, 1, 1, 0, 0, 0, 0, 1, 1,\n",
       "       0, 0, 1, 0, 0, 1, 1, 1])"
      ]
     },
     "execution_count": 20,
     "metadata": {},
     "output_type": "execute_result"
    }
   ],
   "source": [
    "pred_y = gnb.predict(test_X)\n",
    "pred_y"
   ]
  },
  {
   "cell_type": "markdown",
   "id": "924027a6",
   "metadata": {
    "papermill": {
     "duration": 0.012939,
     "end_time": "2025-07-15T15:03:34.392150",
     "exception": false,
     "start_time": "2025-07-15T15:03:34.379211",
     "status": "completed"
    },
    "tags": []
   },
   "source": [
    "S spodnjo kodo uvozimo več metrik (accuracy_score, classification_report in confusion_matrix) iz scikit-learn za pomoč pri ocenjevanju učinkovitosti klasifikacijskega modela."
   ]
  },
  {
   "cell_type": "code",
   "execution_count": 21,
   "id": "c97e04ff",
   "metadata": {
    "execution": {
     "iopub.execute_input": "2025-07-15T15:03:34.420238Z",
     "iopub.status.busy": "2025-07-15T15:03:34.419859Z",
     "iopub.status.idle": "2025-07-15T15:03:34.423863Z",
     "shell.execute_reply": "2025-07-15T15:03:34.422936Z"
    },
    "papermill": {
     "duration": 0.019812,
     "end_time": "2025-07-15T15:03:34.425628",
     "exception": false,
     "start_time": "2025-07-15T15:03:34.405816",
     "status": "completed"
    },
    "tags": []
   },
   "outputs": [],
   "source": [
    "from sklearn.metrics import accuracy_score, classification_report, confusion_matrix"
   ]
  },
  {
   "cell_type": "markdown",
   "id": "dd16f8b6",
   "metadata": {
    "papermill": {
     "duration": 0.013225,
     "end_time": "2025-07-15T15:03:34.452408",
     "exception": false,
     "start_time": "2025-07-15T15:03:34.439183",
     "status": "completed"
    },
    "tags": []
   },
   "source": [
    "Koda *accuracy_score* natančnost napovedi prikaže tako, da primerja predvideno klasifikacijo (`pred_y`) z dejanskimi razredi (`test_Y`).\n",
    "To je preprost in hiter način za merjenje splošne pravilnosti modela, čeprav so za razumevanje delovanja na neuravnoteženih naborih podatkov morda potrebne druge pristope merjenja natančnosti."
   ]
  },
  {
   "cell_type": "code",
   "execution_count": 22,
   "id": "88be6034",
   "metadata": {
    "execution": {
     "iopub.execute_input": "2025-07-15T15:03:34.484095Z",
     "iopub.status.busy": "2025-07-15T15:03:34.483694Z",
     "iopub.status.idle": "2025-07-15T15:03:34.491477Z",
     "shell.execute_reply": "2025-07-15T15:03:34.490394Z"
    },
    "papermill": {
     "duration": 0.025176,
     "end_time": "2025-07-15T15:03:34.493156",
     "exception": false,
     "start_time": "2025-07-15T15:03:34.467980",
     "status": "completed"
    },
    "tags": []
   },
   "outputs": [
    {
     "data": {
      "text/plain": [
       "0.7725"
      ]
     },
     "execution_count": 22,
     "metadata": {},
     "output_type": "execute_result"
    }
   ],
   "source": [
    "acc = accuracy_score(test_Y, pred_y)\n",
    "acc"
   ]
  },
  {
   "cell_type": "markdown",
   "id": "58b2b0e5",
   "metadata": {
    "papermill": {
     "duration": 0.013227,
     "end_time": "2025-07-15T15:03:34.520133",
     "exception": false,
     "start_time": "2025-07-15T15:03:34.506906",
     "status": "completed"
    },
    "tags": []
   },
   "source": [
    "Natančnost našega modela je 77%, kar pomeni da pravilno klasificira malo več kot 3/4 vseh primerov. Za začetek našega merjenja to ni slabo, v nadaljevanju pa bomo videli, ali dodatne metrike, kot so precision, recall in F1-score, koristne za razumevanje, v katerih specifičnih primerih se model slabše odziva."
   ]
  },
  {
   "cell_type": "markdown",
   "id": "4308ae99",
   "metadata": {
    "papermill": {
     "duration": 0.013517,
     "end_time": "2025-07-15T15:03:34.547808",
     "exception": false,
     "start_time": "2025-07-15T15:03:34.534291",
     "status": "completed"
    },
    "tags": []
   },
   "source": [
    "Spodnja koda ustvari poročilo o klasifikaciji, ki podrobno opisuje natančnost, odpoklic, F1-oceno in podporo za vsak razred. Zagotavlja popolnejše razumevanje delovanja modela kot zgolj natančnost in nas usmerja pri izboljšavah za prihodnje učenje.\n",
    "</br>precision -> (točnost) procent pravilnih znotraj napovedanega razreda: TP / (TP + FP)\n",
    "</br>recall -> (pokritost) procent pravilno napovedanih znotraj resničnih klasifikacij: TP / (TP + FN)\n",
    "</br>F1-score -> harmonično povprečje med precision in recall, uporaben pri neuravnoteženih razredih\n",
    "</br>support -> koliko dejanskih primerov določenega razreda je bilo v testnem naboru podatkov"
   ]
  },
  {
   "cell_type": "code",
   "execution_count": 23,
   "id": "0eb7cca8",
   "metadata": {
    "execution": {
     "iopub.execute_input": "2025-07-15T15:03:34.576949Z",
     "iopub.status.busy": "2025-07-15T15:03:34.576586Z",
     "iopub.status.idle": "2025-07-15T15:03:34.591134Z",
     "shell.execute_reply": "2025-07-15T15:03:34.589883Z"
    },
    "papermill": {
     "duration": 0.031134,
     "end_time": "2025-07-15T15:03:34.592949",
     "exception": false,
     "start_time": "2025-07-15T15:03:34.561815",
     "status": "completed"
    },
    "tags": []
   },
   "outputs": [
    {
     "name": "stdout",
     "output_type": "stream",
     "text": [
      "              precision    recall  f1-score   support\n",
      "\n",
      "           0       0.76      0.78      0.77       393\n",
      "           1       0.78      0.76      0.77       407\n",
      "\n",
      "    accuracy                           0.77       800\n",
      "   macro avg       0.77      0.77      0.77       800\n",
      "weighted avg       0.77      0.77      0.77       800\n",
      "\n"
     ]
    }
   ],
   "source": [
    "report = classification_report(test_Y, pred_y)\n",
    "print(report)"
   ]
  },
  {
   "cell_type": "markdown",
   "id": "29a0027c",
   "metadata": {
    "papermill": {
     "duration": 0.013423,
     "end_time": "2025-07-15T15:03:34.620485",
     "exception": false,
     "start_time": "2025-07-15T15:03:34.607062",
     "status": "completed"
    },
    "tags": []
   },
   "source": [
    "Model je razred napovedal pravilno 76% in 78%. Identificiral je pravilen razred 78% in 76%. Oba razreda sta uravnoteženo predstavljana. Ker so si rezultati med obema razredoma podobna, je razvidno da model ni pristranski do enega izmed razredov.</br>\n",
    "Ker pa ciljamo na višjo točnost napovedovanja, bom v nadaljevanju uporabila še druge modele klasifikacije."
   ]
  },
  {
   "cell_type": "markdown",
   "id": "90d488b3",
   "metadata": {
    "papermill": {
     "duration": 0.016911,
     "end_time": "2025-07-15T15:03:34.651027",
     "exception": false,
     "start_time": "2025-07-15T15:03:34.634116",
     "status": "completed"
    },
    "tags": []
   },
   "source": [
    "Spodnji ukaz ustvari \"confusion matrix\" s primerjavo dejanskih razredov (test_Y) z napovedanimi modela (pred_y). Matrika prikazuje nov pogled na naše rezultate: število resnično pozitivnih, resnično negativnih, lažno pozitivnih in lažno negativnih rezultatov. To pomaga pri prepoznavanju specifičnih področij, kjer model deluje dobro ali kje potrebuje izboljšave."
   ]
  },
  {
   "cell_type": "code",
   "execution_count": 24,
   "id": "94f1d5c0",
   "metadata": {
    "execution": {
     "iopub.execute_input": "2025-07-15T15:03:34.680398Z",
     "iopub.status.busy": "2025-07-15T15:03:34.679962Z",
     "iopub.status.idle": "2025-07-15T15:03:34.687675Z",
     "shell.execute_reply": "2025-07-15T15:03:34.686613Z"
    },
    "papermill": {
     "duration": 0.023971,
     "end_time": "2025-07-15T15:03:34.689406",
     "exception": false,
     "start_time": "2025-07-15T15:03:34.665435",
     "status": "completed"
    },
    "tags": []
   },
   "outputs": [
    {
     "data": {
      "text/plain": [
       "array([[308,  85],\n",
       "       [ 97, 310]])"
      ]
     },
     "execution_count": 24,
     "metadata": {},
     "output_type": "execute_result"
    }
   ],
   "source": [
    "confusion_matrix(test_Y, pred_y)"
   ]
  },
  {
   "cell_type": "markdown",
   "id": "d8ffedd3",
   "metadata": {
    "papermill": {
     "duration": 0.013598,
     "end_time": "2025-07-15T15:03:34.717019",
     "exception": false,
     "start_time": "2025-07-15T15:03:34.703421",
     "status": "completed"
    },
    "tags": []
   },
   "source": [
    "(diagonala so pravilni, ostala dva so napačne napovedi)"
   ]
  },
  {
   "cell_type": "markdown",
   "id": "22036fc7",
   "metadata": {
    "papermill": {
     "duration": 0.013618,
     "end_time": "2025-07-15T15:03:34.744386",
     "exception": false,
     "start_time": "2025-07-15T15:03:34.730768",
     "status": "completed"
    },
    "tags": []
   },
   "source": [
    "## Artificial neural network (Nevronska mreža)\n",
    "\n",
    "Nevronska mreža, tudi umetna nevronska mreža, je naprava za obdelavo informacij, ki deluje po vzoru človeških/živalskih možganov. Bistvo nevronskih mrež je v tem, da med učenjem same ugotovijo pravilo, ki povezuje izhodne podatke z vhodnimi (samostojno učenje).</br>\n",
    "\n",
    "Nevronsko mrežo sestavljajo enote ali vozlišča, imenovana nevroni, ki so med seboj povezani z robovi, ki modelirajo sinapse v možganih. Vsak nevron prejema signale iz povezanih nevronov, jih nato obdela in pošlje signal drugim povezanim nevronom. \"Signal\" je realno število, izhod vsakega nevrona pa se izračuna z neko nelinearno funkcijo vsote njegovih vhodov, imenovano aktivacijska funkcija. Moč signala na vsaki povezavi je določena z utežjo, ki se prilagaja med procesom učenja.</br>\n",
    "\n",
    "Običajno so nevroni združeni v plasti. Signali potujejo od prve plasti (*input layer*) do zadnje plasti (*output layer*), po možnosti skozi več vmesnih plasti (*hidden layers*)."
   ]
  },
  {
   "cell_type": "markdown",
   "id": "6fb33e4c",
   "metadata": {
    "papermill": {
     "duration": 0.013412,
     "end_time": "2025-07-15T15:03:34.771888",
     "exception": false,
     "start_time": "2025-07-15T15:03:34.758476",
     "status": "completed"
    },
    "tags": []
   },
   "source": [
    "Knjižnico, ki jo bom uporabila, je *tensorflow*. Spodaj navedeni razredi imajo vsak svojo vlogo:\n",
    "</br>\n",
    "</br>\n",
    "Sequential -> ustvari linearni sklad plasti, kjer ima vsaka plast natanko en vhodni tenzor in en izhodni tenzor (količina, ki se lahko izrazi s kvadratno matriko števil)\n",
    "</br>\n",
    "Input -> definira vhodne podatke\n",
    "</br>\n",
    "Dense -> upravljanje s plastmi, ki so med seboj popolnoma povezanepovezane (vsak nevron povezan z vsakim nevronom v prejšnji plasti). Poleg tega pa s tem razredom definiramo želeno aktivacijsko funkcijo\n",
    "</br>\n",
    "SGD -> Stochastic Gradient Descent: optimizira uteži med učenjem/treniranjem\n",
    "</br>\n",
    "</br>\n",
    "Na vajah smo sicer uporabljali še dva druga razreda (nista iz te knjižnice), ampak sem se na podlagi svojih podatkov odločila, da ju ne bom potrebovala.</br>\n",
    "Prvi je SMOTE (knjižnica *imblearn*), ki je koristen, ko so klacifikacijski razredi neuravnovešeni. V mojih podatkih sta oba razreda (\"good\", \"bad\") predstavljena v pribljižno enakem številu primerov.</br>\n",
    "Drugi razred je StandardScaler (knjižnica *scikit-learn*), ki je namenjena v primerih, ko so podatki numerični in v različnih merilih. Ker pa so moji podatki v povprečju raporejeni med -7 in 7 ter so znotraj lastnosti/stolpcev v naravni porazdelitvi, ne potrebujem standardizacije."
   ]
  },
  {
   "cell_type": "code",
   "execution_count": 25,
   "id": "ca6ce532",
   "metadata": {
    "execution": {
     "iopub.execute_input": "2025-07-15T15:03:34.801589Z",
     "iopub.status.busy": "2025-07-15T15:03:34.801216Z",
     "iopub.status.idle": "2025-07-15T15:03:49.719182Z",
     "shell.execute_reply": "2025-07-15T15:03:49.718217Z"
    },
    "papermill": {
     "duration": 14.935392,
     "end_time": "2025-07-15T15:03:49.721101",
     "exception": false,
     "start_time": "2025-07-15T15:03:34.785709",
     "status": "completed"
    },
    "tags": []
   },
   "outputs": [],
   "source": [
    "from tensorflow.keras.models import Sequential\n",
    "from tensorflow.keras.layers import Input, Dense\n",
    "from tensorflow.keras.optimizers import SGD"
   ]
  },
  {
   "cell_type": "markdown",
   "id": "7da50d4f",
   "metadata": {
    "papermill": {
     "duration": 0.013197,
     "end_time": "2025-07-15T15:03:49.749342",
     "exception": false,
     "start_time": "2025-07-15T15:03:49.736145",
     "status": "completed"
    },
    "tags": []
   },
   "source": [
    "### Učenje/Treniranje\n",
    "\n",
    "Spodnja koda sestavi \"feedforward\" nevronsko mrežo. V inputu layer številka 7 predstavlja 7 lastnosti, ki jih pri vsakem jabolku opazujemo.</br>\n",
    "Naslednje 4 vrstice predstavljajo hidden layers. Odločila sem se za 2 plasti s 32 nevroni in 2 plasti s 16. Iz poskusov sem ugotovila, da je to ena boljših kombinacij. Prvi vseh štirih sem uporabila ReLU (rectified linear unit) aktivacijsko funkcijo. Funkcija izniči negativne vrednosti (jih spremeni v 0), če pa je vrednost pozitivna se je ne dotika.</br>\n",
    "Zadnja vrstica je output layer, v katerem imam samo en nevron in aktivacijsko funkcijo sigmoid. Ta funkcija razdeli podatke med 0 in 1, kar pri klasifikaciji med \"good\" in \"bad\" iščemo."
   ]
  },
  {
   "cell_type": "code",
   "execution_count": 26,
   "id": "9148719c",
   "metadata": {
    "execution": {
     "iopub.execute_input": "2025-07-15T15:03:49.777978Z",
     "iopub.status.busy": "2025-07-15T15:03:49.777348Z",
     "iopub.status.idle": "2025-07-15T15:03:49.888423Z",
     "shell.execute_reply": "2025-07-15T15:03:49.887416Z"
    },
    "papermill": {
     "duration": 0.127377,
     "end_time": "2025-07-15T15:03:49.890200",
     "exception": false,
     "start_time": "2025-07-15T15:03:49.762823",
     "status": "completed"
    },
    "tags": []
   },
   "outputs": [],
   "source": [
    "model = Sequential()\n",
    "model.add(Input((7,)))\n",
    "\n",
    "model.add(Dense(32,activation='relu'))\n",
    "model.add(Dense(32,activation='relu'))\n",
    "model.add(Dense(16,activation='relu'))\n",
    "model.add(Dense(16,activation='relu'))\n",
    "\n",
    "model.add(Dense(1,activation='sigmoid'))"
   ]
  },
  {
   "cell_type": "markdown",
   "id": "c6a89716",
   "metadata": {
    "papermill": {
     "duration": 0.01307,
     "end_time": "2025-07-15T15:03:49.916931",
     "exception": false,
     "start_time": "2025-07-15T15:03:49.903861",
     "status": "completed"
    },
    "tags": []
   },
   "source": [
    "V spodnji kodi se naš model uči na danih podatkih.</br>\n",
    "Loss function, ki smo jo uporabljali na vajah, sem uporabila tudi v svojem primeru. Imenuje se binary_crossentropy in je primerna za binarno klasifikacijo s katero se ukvarja moj projekt. Loss function podaja podatek o tem kako napačna je napoved modela v primerjavi s pravilno rešitvijo (višja kot je ocena, slabše gre modelu). Model si z rezultatom te funkcije pomaga pri prilagajanju uteži.</br>\n",
    "Za optimizator uporabljam SGD algoritem, ki pomaga \"kontrolirati\" loss function. Uteži modela prilagaja postopoma, posledično se s tem lažje izognemu problemu prekomernega prilagajanja.</br>\n",
    "Zadnji argument modelu pove naj med učenjem ocenjuje točnost podatkov.</br></br>\n",
    "Spodnja funkcija pa je v resnici začne proces učenja na naših podatkih. Število epochs-ov (število iteracij) sem nastavila na 50, saj je to prinašalo največjo točnost na končnih napovedi."
   ]
  },
  {
   "cell_type": "code",
   "execution_count": 27,
   "id": "edd26b99",
   "metadata": {
    "execution": {
     "iopub.execute_input": "2025-07-15T15:03:49.944881Z",
     "iopub.status.busy": "2025-07-15T15:03:49.944554Z",
     "iopub.status.idle": "2025-07-15T15:03:58.727272Z",
     "shell.execute_reply": "2025-07-15T15:03:58.726211Z"
    },
    "papermill": {
     "duration": 8.798649,
     "end_time": "2025-07-15T15:03:58.728949",
     "exception": false,
     "start_time": "2025-07-15T15:03:49.930300",
     "status": "completed"
    },
    "tags": []
   },
   "outputs": [
    {
     "name": "stdout",
     "output_type": "stream",
     "text": [
      "Epoch 1/50\n",
      "\u001b[1m100/100\u001b[0m \u001b[32m━━━━━━━━━━━━━━━━━━━━\u001b[0m\u001b[37m\u001b[0m \u001b[1m1s\u001b[0m 2ms/step - accuracy: 0.5703 - loss: 0.6803\n",
      "Epoch 2/50\n",
      "\u001b[1m100/100\u001b[0m \u001b[32m━━━━━━━━━━━━━━━━━━━━\u001b[0m\u001b[37m\u001b[0m \u001b[1m0s\u001b[0m 1ms/step - accuracy: 0.7674 - loss: 0.5835\n",
      "Epoch 3/50\n",
      "\u001b[1m100/100\u001b[0m \u001b[32m━━━━━━━━━━━━━━━━━━━━\u001b[0m\u001b[37m\u001b[0m \u001b[1m0s\u001b[0m 1ms/step - accuracy: 0.7981 - loss: 0.4843\n",
      "Epoch 4/50\n",
      "\u001b[1m100/100\u001b[0m \u001b[32m━━━━━━━━━━━━━━━━━━━━\u001b[0m\u001b[37m\u001b[0m \u001b[1m0s\u001b[0m 1ms/step - accuracy: 0.8058 - loss: 0.4323\n",
      "Epoch 5/50\n",
      "\u001b[1m100/100\u001b[0m \u001b[32m━━━━━━━━━━━━━━━━━━━━\u001b[0m\u001b[37m\u001b[0m \u001b[1m0s\u001b[0m 1ms/step - accuracy: 0.8283 - loss: 0.3866\n",
      "Epoch 6/50\n",
      "\u001b[1m100/100\u001b[0m \u001b[32m━━━━━━━━━━━━━━━━━━━━\u001b[0m\u001b[37m\u001b[0m \u001b[1m0s\u001b[0m 1ms/step - accuracy: 0.8250 - loss: 0.3789\n",
      "Epoch 7/50\n",
      "\u001b[1m100/100\u001b[0m \u001b[32m━━━━━━━━━━━━━━━━━━━━\u001b[0m\u001b[37m\u001b[0m \u001b[1m0s\u001b[0m 1ms/step - accuracy: 0.8407 - loss: 0.3652\n",
      "Epoch 8/50\n",
      "\u001b[1m100/100\u001b[0m \u001b[32m━━━━━━━━━━━━━━━━━━━━\u001b[0m\u001b[37m\u001b[0m \u001b[1m0s\u001b[0m 1ms/step - accuracy: 0.8458 - loss: 0.3377\n",
      "Epoch 9/50\n",
      "\u001b[1m100/100\u001b[0m \u001b[32m━━━━━━━━━━━━━━━━━━━━\u001b[0m\u001b[37m\u001b[0m \u001b[1m0s\u001b[0m 1ms/step - accuracy: 0.8577 - loss: 0.3277\n",
      "Epoch 10/50\n",
      "\u001b[1m100/100\u001b[0m \u001b[32m━━━━━━━━━━━━━━━━━━━━\u001b[0m\u001b[37m\u001b[0m \u001b[1m0s\u001b[0m 1ms/step - accuracy: 0.8603 - loss: 0.3270\n",
      "Epoch 11/50\n",
      "\u001b[1m100/100\u001b[0m \u001b[32m━━━━━━━━━━━━━━━━━━━━\u001b[0m\u001b[37m\u001b[0m \u001b[1m0s\u001b[0m 1ms/step - accuracy: 0.8719 - loss: 0.3070\n",
      "Epoch 12/50\n",
      "\u001b[1m100/100\u001b[0m \u001b[32m━━━━━━━━━━━━━━━━━━━━\u001b[0m\u001b[37m\u001b[0m \u001b[1m0s\u001b[0m 1ms/step - accuracy: 0.8727 - loss: 0.3012\n",
      "Epoch 13/50\n",
      "\u001b[1m100/100\u001b[0m \u001b[32m━━━━━━━━━━━━━━━━━━━━\u001b[0m\u001b[37m\u001b[0m \u001b[1m0s\u001b[0m 1ms/step - accuracy: 0.8721 - loss: 0.2927\n",
      "Epoch 14/50\n",
      "\u001b[1m100/100\u001b[0m \u001b[32m━━━━━━━━━━━━━━━━━━━━\u001b[0m\u001b[37m\u001b[0m \u001b[1m0s\u001b[0m 1ms/step - accuracy: 0.8866 - loss: 0.2676\n",
      "Epoch 15/50\n",
      "\u001b[1m100/100\u001b[0m \u001b[32m━━━━━━━━━━━━━━━━━━━━\u001b[0m\u001b[37m\u001b[0m \u001b[1m0s\u001b[0m 1ms/step - accuracy: 0.8815 - loss: 0.2916\n",
      "Epoch 16/50\n",
      "\u001b[1m100/100\u001b[0m \u001b[32m━━━━━━━━━━━━━━━━━━━━\u001b[0m\u001b[37m\u001b[0m \u001b[1m0s\u001b[0m 1ms/step - accuracy: 0.8797 - loss: 0.2858\n",
      "Epoch 17/50\n",
      "\u001b[1m100/100\u001b[0m \u001b[32m━━━━━━━━━━━━━━━━━━━━\u001b[0m\u001b[37m\u001b[0m \u001b[1m0s\u001b[0m 1ms/step - accuracy: 0.8878 - loss: 0.2612\n",
      "Epoch 18/50\n",
      "\u001b[1m100/100\u001b[0m \u001b[32m━━━━━━━━━━━━━━━━━━━━\u001b[0m\u001b[37m\u001b[0m \u001b[1m0s\u001b[0m 1ms/step - accuracy: 0.8772 - loss: 0.2849\n",
      "Epoch 19/50\n",
      "\u001b[1m100/100\u001b[0m \u001b[32m━━━━━━━━━━━━━━━━━━━━\u001b[0m\u001b[37m\u001b[0m \u001b[1m0s\u001b[0m 1ms/step - accuracy: 0.8979 - loss: 0.2588\n",
      "Epoch 20/50\n",
      "\u001b[1m100/100\u001b[0m \u001b[32m━━━━━━━━━━━━━━━━━━━━\u001b[0m\u001b[37m\u001b[0m \u001b[1m0s\u001b[0m 1ms/step - accuracy: 0.8999 - loss: 0.2544\n",
      "Epoch 21/50\n",
      "\u001b[1m100/100\u001b[0m \u001b[32m━━━━━━━━━━━━━━━━━━━━\u001b[0m\u001b[37m\u001b[0m \u001b[1m0s\u001b[0m 1ms/step - accuracy: 0.8986 - loss: 0.2568\n",
      "Epoch 22/50\n",
      "\u001b[1m100/100\u001b[0m \u001b[32m━━━━━━━━━━━━━━━━━━━━\u001b[0m\u001b[37m\u001b[0m \u001b[1m0s\u001b[0m 1ms/step - accuracy: 0.8945 - loss: 0.2515\n",
      "Epoch 23/50\n",
      "\u001b[1m100/100\u001b[0m \u001b[32m━━━━━━━━━━━━━━━━━━━━\u001b[0m\u001b[37m\u001b[0m \u001b[1m0s\u001b[0m 1ms/step - accuracy: 0.8994 - loss: 0.2524\n",
      "Epoch 24/50\n",
      "\u001b[1m100/100\u001b[0m \u001b[32m━━━━━━━━━━━━━━━━━━━━\u001b[0m\u001b[37m\u001b[0m \u001b[1m0s\u001b[0m 1ms/step - accuracy: 0.8941 - loss: 0.2543\n",
      "Epoch 25/50\n",
      "\u001b[1m100/100\u001b[0m \u001b[32m━━━━━━━━━━━━━━━━━━━━\u001b[0m\u001b[37m\u001b[0m \u001b[1m0s\u001b[0m 1ms/step - accuracy: 0.9044 - loss: 0.2402\n",
      "Epoch 26/50\n",
      "\u001b[1m100/100\u001b[0m \u001b[32m━━━━━━━━━━━━━━━━━━━━\u001b[0m\u001b[37m\u001b[0m \u001b[1m0s\u001b[0m 1ms/step - accuracy: 0.8950 - loss: 0.2485\n",
      "Epoch 27/50\n",
      "\u001b[1m100/100\u001b[0m \u001b[32m━━━━━━━━━━━━━━━━━━━━\u001b[0m\u001b[37m\u001b[0m \u001b[1m0s\u001b[0m 1ms/step - accuracy: 0.8976 - loss: 0.2510\n",
      "Epoch 28/50\n",
      "\u001b[1m100/100\u001b[0m \u001b[32m━━━━━━━━━━━━━━━━━━━━\u001b[0m\u001b[37m\u001b[0m \u001b[1m0s\u001b[0m 1ms/step - accuracy: 0.8988 - loss: 0.2405\n",
      "Epoch 29/50\n",
      "\u001b[1m100/100\u001b[0m \u001b[32m━━━━━━━━━━━━━━━━━━━━\u001b[0m\u001b[37m\u001b[0m \u001b[1m0s\u001b[0m 1ms/step - accuracy: 0.9128 - loss: 0.2196\n",
      "Epoch 30/50\n",
      "\u001b[1m100/100\u001b[0m \u001b[32m━━━━━━━━━━━━━━━━━━━━\u001b[0m\u001b[37m\u001b[0m \u001b[1m0s\u001b[0m 1ms/step - accuracy: 0.8956 - loss: 0.2460\n",
      "Epoch 31/50\n",
      "\u001b[1m100/100\u001b[0m \u001b[32m━━━━━━━━━━━━━━━━━━━━\u001b[0m\u001b[37m\u001b[0m \u001b[1m0s\u001b[0m 1ms/step - accuracy: 0.8968 - loss: 0.2388\n",
      "Epoch 32/50\n",
      "\u001b[1m100/100\u001b[0m \u001b[32m━━━━━━━━━━━━━━━━━━━━\u001b[0m\u001b[37m\u001b[0m \u001b[1m0s\u001b[0m 1ms/step - accuracy: 0.9079 - loss: 0.2235\n",
      "Epoch 33/50\n",
      "\u001b[1m100/100\u001b[0m \u001b[32m━━━━━━━━━━━━━━━━━━━━\u001b[0m\u001b[37m\u001b[0m \u001b[1m0s\u001b[0m 1ms/step - accuracy: 0.9191 - loss: 0.2105\n",
      "Epoch 34/50\n",
      "\u001b[1m100/100\u001b[0m \u001b[32m━━━━━━━━━━━━━━━━━━━━\u001b[0m\u001b[37m\u001b[0m \u001b[1m0s\u001b[0m 1ms/step - accuracy: 0.9094 - loss: 0.2185\n",
      "Epoch 35/50\n",
      "\u001b[1m100/100\u001b[0m \u001b[32m━━━━━━━━━━━━━━━━━━━━\u001b[0m\u001b[37m\u001b[0m \u001b[1m0s\u001b[0m 1ms/step - accuracy: 0.9008 - loss: 0.2375\n",
      "Epoch 36/50\n",
      "\u001b[1m100/100\u001b[0m \u001b[32m━━━━━━━━━━━━━━━━━━━━\u001b[0m\u001b[37m\u001b[0m \u001b[1m0s\u001b[0m 1ms/step - accuracy: 0.9104 - loss: 0.2116\n",
      "Epoch 37/50\n",
      "\u001b[1m100/100\u001b[0m \u001b[32m━━━━━━━━━━━━━━━━━━━━\u001b[0m\u001b[37m\u001b[0m \u001b[1m0s\u001b[0m 1ms/step - accuracy: 0.9172 - loss: 0.2089\n",
      "Epoch 38/50\n",
      "\u001b[1m100/100\u001b[0m \u001b[32m━━━━━━━━━━━━━━━━━━━━\u001b[0m\u001b[37m\u001b[0m \u001b[1m0s\u001b[0m 1ms/step - accuracy: 0.9043 - loss: 0.2194\n",
      "Epoch 39/50\n",
      "\u001b[1m100/100\u001b[0m \u001b[32m━━━━━━━━━━━━━━━━━━━━\u001b[0m\u001b[37m\u001b[0m \u001b[1m0s\u001b[0m 1ms/step - accuracy: 0.9162 - loss: 0.2001\n",
      "Epoch 40/50\n",
      "\u001b[1m100/100\u001b[0m \u001b[32m━━━━━━━━━━━━━━━━━━━━\u001b[0m\u001b[37m\u001b[0m \u001b[1m0s\u001b[0m 1ms/step - accuracy: 0.9189 - loss: 0.2076\n",
      "Epoch 41/50\n",
      "\u001b[1m100/100\u001b[0m \u001b[32m━━━━━━━━━━━━━━━━━━━━\u001b[0m\u001b[37m\u001b[0m \u001b[1m0s\u001b[0m 1ms/step - accuracy: 0.9164 - loss: 0.2009\n",
      "Epoch 42/50\n",
      "\u001b[1m100/100\u001b[0m \u001b[32m━━━━━━━━━━━━━━━━━━━━\u001b[0m\u001b[37m\u001b[0m \u001b[1m0s\u001b[0m 1ms/step - accuracy: 0.9276 - loss: 0.1991\n",
      "Epoch 43/50\n",
      "\u001b[1m100/100\u001b[0m \u001b[32m━━━━━━━━━━━━━━━━━━━━\u001b[0m\u001b[37m\u001b[0m \u001b[1m0s\u001b[0m 1ms/step - accuracy: 0.9133 - loss: 0.2040\n",
      "Epoch 44/50\n",
      "\u001b[1m100/100\u001b[0m \u001b[32m━━━━━━━━━━━━━━━━━━━━\u001b[0m\u001b[37m\u001b[0m \u001b[1m0s\u001b[0m 1ms/step - accuracy: 0.9164 - loss: 0.2001\n",
      "Epoch 45/50\n",
      "\u001b[1m100/100\u001b[0m \u001b[32m━━━━━━━━━━━━━━━━━━━━\u001b[0m\u001b[37m\u001b[0m \u001b[1m0s\u001b[0m 1ms/step - accuracy: 0.9277 - loss: 0.1906\n",
      "Epoch 46/50\n",
      "\u001b[1m100/100\u001b[0m \u001b[32m━━━━━━━━━━━━━━━━━━━━\u001b[0m\u001b[37m\u001b[0m \u001b[1m0s\u001b[0m 1ms/step - accuracy: 0.9229 - loss: 0.1951\n",
      "Epoch 47/50\n",
      "\u001b[1m100/100\u001b[0m \u001b[32m━━━━━━━━━━━━━━━━━━━━\u001b[0m\u001b[37m\u001b[0m \u001b[1m0s\u001b[0m 1ms/step - accuracy: 0.9233 - loss: 0.1892\n",
      "Epoch 48/50\n",
      "\u001b[1m100/100\u001b[0m \u001b[32m━━━━━━━━━━━━━━━━━━━━\u001b[0m\u001b[37m\u001b[0m \u001b[1m0s\u001b[0m 1ms/step - accuracy: 0.9297 - loss: 0.1847\n",
      "Epoch 49/50\n",
      "\u001b[1m100/100\u001b[0m \u001b[32m━━━━━━━━━━━━━━━━━━━━\u001b[0m\u001b[37m\u001b[0m \u001b[1m0s\u001b[0m 1ms/step - accuracy: 0.9339 - loss: 0.1691\n",
      "Epoch 50/50\n",
      "\u001b[1m100/100\u001b[0m \u001b[32m━━━━━━━━━━━━━━━━━━━━\u001b[0m\u001b[37m\u001b[0m \u001b[1m0s\u001b[0m 1ms/step - accuracy: 0.9298 - loss: 0.1728\n"
     ]
    },
    {
     "data": {
      "text/plain": [
       "<keras.src.callbacks.history.History at 0x7a47fcabe560>"
      ]
     },
     "execution_count": 27,
     "metadata": {},
     "output_type": "execute_result"
    }
   ],
   "source": [
    "model.compile(loss='binary_crossentropy', optimizer='SGD', metrics=['accuracy'])\n",
    "model.fit(train_X, train_Y, epochs=50)"
   ]
  },
  {
   "cell_type": "markdown",
   "id": "e9ff431d",
   "metadata": {
    "papermill": {
     "duration": 0.026674,
     "end_time": "2025-07-15T15:03:58.783646",
     "exception": false,
     "start_time": "2025-07-15T15:03:58.756972",
     "status": "completed"
    },
    "tags": []
   },
   "source": [
    "### Testiranje\n",
    "\n",
    "Spodjna koda naš naučen model testira na podatkih, s katerimi se še ni srečal prej.  Zakomentiran del kode nam vrne array števil med 0 in 1, ki predstavlja vrjetnost, da je jabolko dobro (\"good\"). \n",
    "\n"
   ]
  },
  {
   "cell_type": "code",
   "execution_count": 28,
   "id": "c0f0b0af",
   "metadata": {
    "execution": {
     "iopub.execute_input": "2025-07-15T15:03:58.839246Z",
     "iopub.status.busy": "2025-07-15T15:03:58.838838Z",
     "iopub.status.idle": "2025-07-15T15:03:59.005298Z",
     "shell.execute_reply": "2025-07-15T15:03:59.004102Z"
    },
    "papermill": {
     "duration": 0.196426,
     "end_time": "2025-07-15T15:03:59.007208",
     "exception": false,
     "start_time": "2025-07-15T15:03:58.810782",
     "status": "completed"
    },
    "tags": []
   },
   "outputs": [
    {
     "name": "stdout",
     "output_type": "stream",
     "text": [
      "\u001b[1m25/25\u001b[0m \u001b[32m━━━━━━━━━━━━━━━━━━━━\u001b[0m\u001b[37m\u001b[0m \u001b[1m0s\u001b[0m 1ms/step \n"
     ]
    }
   ],
   "source": [
    "ann_pred = model.predict(test_X)\n",
    "#ann_pred"
   ]
  },
  {
   "cell_type": "markdown",
   "id": "5124dc7d",
   "metadata": {
    "papermill": {
     "duration": 0.027564,
     "end_time": "2025-07-15T15:03:59.062326",
     "exception": false,
     "start_time": "2025-07-15T15:03:59.034762",
     "status": "completed"
    },
    "tags": []
   },
   "source": [
    "Glede na to, da števila predstavljajo vrjetnost tega, da je jabolko dobro, lahko s pomočjo spodnje funkcije, array verjetnosti spremenimo array boolean (True-> \"good\", False-> \"bad\")."
   ]
  },
  {
   "cell_type": "code",
   "execution_count": 29,
   "id": "47a11e33",
   "metadata": {
    "execution": {
     "iopub.execute_input": "2025-07-15T15:03:59.119711Z",
     "iopub.status.busy": "2025-07-15T15:03:59.119343Z",
     "iopub.status.idle": "2025-07-15T15:03:59.123657Z",
     "shell.execute_reply": "2025-07-15T15:03:59.122680Z"
    },
    "papermill": {
     "duration": 0.034319,
     "end_time": "2025-07-15T15:03:59.125336",
     "exception": false,
     "start_time": "2025-07-15T15:03:59.091017",
     "status": "completed"
    },
    "tags": []
   },
   "outputs": [],
   "source": [
    "ann_pred = ann_pred > 0.5\n",
    "#ann_pred"
   ]
  },
  {
   "cell_type": "markdown",
   "id": "0103ec41",
   "metadata": {
    "papermill": {
     "duration": 0.026737,
     "end_time": "2025-07-15T15:03:59.179588",
     "exception": false,
     "start_time": "2025-07-15T15:03:59.152851",
     "status": "completed"
    },
    "tags": []
   },
   "source": [
    "S spodnjo kodo preverimo točnost modela."
   ]
  },
  {
   "cell_type": "code",
   "execution_count": 30,
   "id": "74ed7b47",
   "metadata": {
    "execution": {
     "iopub.execute_input": "2025-07-15T15:03:59.234961Z",
     "iopub.status.busy": "2025-07-15T15:03:59.234617Z",
     "iopub.status.idle": "2025-07-15T15:03:59.242051Z",
     "shell.execute_reply": "2025-07-15T15:03:59.241083Z"
    },
    "papermill": {
     "duration": 0.036841,
     "end_time": "2025-07-15T15:03:59.243659",
     "exception": false,
     "start_time": "2025-07-15T15:03:59.206818",
     "status": "completed"
    },
    "tags": []
   },
   "outputs": [
    {
     "data": {
      "text/plain": [
       "0.92125"
      ]
     },
     "execution_count": 30,
     "metadata": {},
     "output_type": "execute_result"
    }
   ],
   "source": [
    "acc = accuracy_score(test_Y, ann_pred)\n",
    "acc"
   ]
  },
  {
   "cell_type": "markdown",
   "id": "1be4cf81",
   "metadata": {
    "papermill": {
     "duration": 0.026827,
     "end_time": "2025-07-15T15:03:59.297956",
     "exception": false,
     "start_time": "2025-07-15T15:03:59.271129",
     "status": "completed"
    },
    "tags": []
   },
   "source": [
    "Moj cilj je vsaj 90% pravilnost napovedi. Pri nevronskih mrežah se z vsakim ponovnim pogomnom programa uteži nastavijo malo drugače, se posledično spreminja tudi natančnost. Program sem pognala petkrat in to so rezultati:</br>\n",
    "0.91625</br>\n",
    "0.90875</br>\n",
    "0.90375</br>\n",
    "0.9</br>\n",
    "0.925</br>\n",
    "Iz njih je vidno, da prihaja do sprememb, a se natančnost nikoli ne spusti pod 90%, kar pa je bil cilj mojega projekta.\n",
    "\n"
   ]
  },
  {
   "cell_type": "markdown",
   "id": "7504ed69",
   "metadata": {
    "papermill": {
     "duration": 0.02703,
     "end_time": "2025-07-15T15:03:59.352635",
     "exception": false,
     "start_time": "2025-07-15T15:03:59.325605",
     "status": "completed"
    },
    "tags": []
   },
   "source": [
    "S spodnjo kodo lahko bolj natančno razumemo razporeditev naših rezultatov napovedi. Koda je enaka kot pri Naive Bayes, kjer je tudi razložena."
   ]
  },
  {
   "cell_type": "code",
   "execution_count": 31,
   "id": "c9600858",
   "metadata": {
    "execution": {
     "iopub.execute_input": "2025-07-15T15:03:59.408776Z",
     "iopub.status.busy": "2025-07-15T15:03:59.408430Z",
     "iopub.status.idle": "2025-07-15T15:03:59.422575Z",
     "shell.execute_reply": "2025-07-15T15:03:59.421289Z"
    },
    "papermill": {
     "duration": 0.04447,
     "end_time": "2025-07-15T15:03:59.424355",
     "exception": false,
     "start_time": "2025-07-15T15:03:59.379885",
     "status": "completed"
    },
    "tags": []
   },
   "outputs": [
    {
     "name": "stdout",
     "output_type": "stream",
     "text": [
      "              precision    recall  f1-score   support\n",
      "\n",
      "           0       0.93      0.91      0.92       393\n",
      "           1       0.92      0.93      0.92       407\n",
      "\n",
      "    accuracy                           0.92       800\n",
      "   macro avg       0.92      0.92      0.92       800\n",
      "weighted avg       0.92      0.92      0.92       800\n",
      "\n"
     ]
    }
   ],
   "source": [
    "class_rep = classification_report(test_Y, ann_pred)\n",
    "print(class_rep)"
   ]
  },
  {
   "cell_type": "code",
   "execution_count": 32,
   "id": "06238063",
   "metadata": {
    "execution": {
     "iopub.execute_input": "2025-07-15T15:03:59.480215Z",
     "iopub.status.busy": "2025-07-15T15:03:59.479795Z",
     "iopub.status.idle": "2025-07-15T15:03:59.488131Z",
     "shell.execute_reply": "2025-07-15T15:03:59.487097Z"
    },
    "papermill": {
     "duration": 0.038098,
     "end_time": "2025-07-15T15:03:59.489789",
     "exception": false,
     "start_time": "2025-07-15T15:03:59.451691",
     "status": "completed"
    },
    "tags": []
   },
   "outputs": [
    {
     "data": {
      "text/plain": [
       "array([[358,  35],\n",
       "       [ 28, 379]])"
      ]
     },
     "execution_count": 32,
     "metadata": {},
     "output_type": "execute_result"
    }
   ],
   "source": [
    "confusion_matrix(test_Y, ann_pred)"
   ]
  },
  {
   "cell_type": "markdown",
   "id": "25df71f5",
   "metadata": {
    "papermill": {
     "duration": 0.027147,
     "end_time": "2025-07-15T15:03:59.544390",
     "exception": false,
     "start_time": "2025-07-15T15:03:59.517243",
     "status": "completed"
    },
    "tags": []
   },
   "source": [
    "# Viri\n",
    "\n",
    "Osnove strojnega učenja in podatkovnega rudarjenja: FAMNIT</br>\n",
    "\n",
    "https://scikit-learn.org/stable/modules/naive_bayes.html</br>\n",
    "https://sl.wikipedia.org/wiki/Bayesov_izrek</br>\n",
    "https://www.geeksforgeeks.org/machine-learning/gaussian-naive-bayes/</br>\n",
    "https://scikit-learn.org/stable/modules/generated/sklearn.metrics.confusion_matrix.html</br>\n",
    "https://en.wikipedia.org/wiki/Neural_network_(machine_learning)</br>\n",
    "https://en.wikipedia.org/wiki/Activation_function</br>\n",
    "https://imbalanced-learn.org/stable/references/generated/imblearn.over_sampling.SMOTE.html</br>\n",
    "https://keras.io/api/models/model_training_apis/</br>\n",
    "https://en.wikipedia.org/wiki/Rectifier_(neural_networks)</br>"
   ]
  },
  {
   "cell_type": "markdown",
   "id": "1d748a20",
   "metadata": {
    "papermill": {
     "duration": 0.027066,
     "end_time": "2025-07-15T15:03:59.598737",
     "exception": false,
     "start_time": "2025-07-15T15:03:59.571671",
     "status": "completed"
    },
    "tags": []
   },
   "source": [
    "# GitHub\n",
    "\n",
    "Povezava do projekta: https://github.com/m2rij2/KKJ"
   ]
  },
  {
   "cell_type": "markdown",
   "id": "c79e3b2d",
   "metadata": {
    "papermill": {
     "duration": 0.026709,
     "end_time": "2025-07-15T15:03:59.652898",
     "exception": false,
     "start_time": "2025-07-15T15:03:59.626189",
     "status": "completed"
    },
    "tags": []
   },
   "source": [
    "## "
   ]
  }
 ],
 "metadata": {
  "kaggle": {
   "accelerator": "none",
   "dataSources": [
    {
     "datasetId": 4291772,
     "sourceId": 7384155,
     "sourceType": "datasetVersion"
    }
   ],
   "dockerImageVersionId": 30918,
   "isGpuEnabled": false,
   "isInternetEnabled": false,
   "language": "python",
   "sourceType": "notebook"
  },
  "kernelspec": {
   "display_name": "Python 3",
   "language": "python",
   "name": "python3"
  },
  "language_info": {
   "codemirror_mode": {
    "name": "ipython",
    "version": 3
   },
   "file_extension": ".py",
   "mimetype": "text/x-python",
   "name": "python",
   "nbconvert_exporter": "python",
   "pygments_lexer": "ipython3",
   "version": "3.10.12"
  },
  "papermill": {
   "default_parameters": {},
   "duration": 36.032914,
   "end_time": "2025-07-15T15:04:02.080544",
   "environment_variables": {},
   "exception": null,
   "input_path": "__notebook__.ipynb",
   "output_path": "__notebook__.ipynb",
   "parameters": {},
   "start_time": "2025-07-15T15:03:26.047630",
   "version": "2.6.0"
  }
 },
 "nbformat": 4,
 "nbformat_minor": 5
}
