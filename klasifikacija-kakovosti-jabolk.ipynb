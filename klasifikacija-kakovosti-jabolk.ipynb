{
 "cells": [
  {
   "cell_type": "markdown",
   "id": "27dcc358",
   "metadata": {
    "papermill": {
     "duration": 0.007431,
     "end_time": "2025-07-09T11:04:35.804758",
     "exception": false,
     "start_time": "2025-07-09T11:04:35.797327",
     "status": "completed"
    },
    "tags": []
   },
   "source": [
    "# Nalaganje osnovnih paketov\n",
    "pandas: data analisys library\n"
   ]
  },
  {
   "cell_type": "code",
   "execution_count": 1,
   "id": "aa89882b",
   "metadata": {
    "execution": {
     "iopub.execute_input": "2025-07-09T11:04:35.819210Z",
     "iopub.status.busy": "2025-07-09T11:04:35.818465Z",
     "iopub.status.idle": "2025-07-09T11:04:36.991521Z",
     "shell.execute_reply": "2025-07-09T11:04:36.990009Z"
    },
    "papermill": {
     "duration": 1.183415,
     "end_time": "2025-07-09T11:04:36.994060",
     "exception": false,
     "start_time": "2025-07-09T11:04:35.810645",
     "status": "completed"
    },
    "tags": []
   },
   "outputs": [],
   "source": [
    "import pandas as pd"
   ]
  },
  {
   "cell_type": "markdown",
   "id": "14d36307",
   "metadata": {
    "papermill": {
     "duration": 0.004717,
     "end_time": "2025-07-09T11:04:37.004906",
     "exception": false,
     "start_time": "2025-07-09T11:04:37.000189",
     "status": "completed"
    },
    "tags": []
   },
   "source": [
    "# Vhodni podatki in vizualizacija (Data understanding)\n"
   ]
  },
  {
   "cell_type": "markdown",
   "id": "e27c3faa",
   "metadata": {
    "papermill": {
     "duration": 0.006236,
     "end_time": "2025-07-09T11:04:37.016779",
     "exception": false,
     "start_time": "2025-07-09T11:04:37.010543",
     "status": "completed"
    },
    "tags": []
   },
   "source": [
    "**Nalaganje dataset-a**\n",
    "\n",
    "preverimo ali smo pravilno naložili dataset"
   ]
  },
  {
   "cell_type": "code",
   "execution_count": 2,
   "id": "57f02013",
   "metadata": {
    "execution": {
     "iopub.execute_input": "2025-07-09T11:04:37.030554Z",
     "iopub.status.busy": "2025-07-09T11:04:37.029981Z",
     "iopub.status.idle": "2025-07-09T11:04:37.167428Z",
     "shell.execute_reply": "2025-07-09T11:04:37.165632Z"
    },
    "papermill": {
     "duration": 0.147609,
     "end_time": "2025-07-09T11:04:37.170240",
     "exception": false,
     "start_time": "2025-07-09T11:04:37.022631",
     "status": "completed"
    },
    "tags": []
   },
   "outputs": [
    {
     "name": "stdout",
     "output_type": "stream",
     "text": [
      "apple_quality.csv\r\n"
     ]
    }
   ],
   "source": [
    "!ls /kaggle/input/apple-quality"
   ]
  },
  {
   "cell_type": "markdown",
   "id": "01ede760",
   "metadata": {
    "papermill": {
     "duration": 0.005047,
     "end_time": "2025-07-09T11:04:37.180868",
     "exception": false,
     "start_time": "2025-07-09T11:04:37.175821",
     "status": "completed"
    },
    "tags": []
   },
   "source": [
    "Preberemo CSV datoteko in prikažemo prvih nekaj vrstic naloženega dataset-a. Ogled prvih nekaj vrstic ponuja začetni vpogled v stolpce in podatke.\n",
    "\n",
    "raw_data ... podatki v Pandas DataFrame obliki"
   ]
  },
  {
   "cell_type": "code",
   "execution_count": 3,
   "id": "81de74ac",
   "metadata": {
    "execution": {
     "iopub.execute_input": "2025-07-09T11:04:37.196329Z",
     "iopub.status.busy": "2025-07-09T11:04:37.195908Z",
     "iopub.status.idle": "2025-07-09T11:04:37.266314Z",
     "shell.execute_reply": "2025-07-09T11:04:37.265045Z"
    },
    "papermill": {
     "duration": 0.08128,
     "end_time": "2025-07-09T11:04:37.268868",
     "exception": false,
     "start_time": "2025-07-09T11:04:37.187588",
     "status": "completed"
    },
    "tags": []
   },
   "outputs": [
    {
     "data": {
      "text/html": [
       "<div>\n",
       "<style scoped>\n",
       "    .dataframe tbody tr th:only-of-type {\n",
       "        vertical-align: middle;\n",
       "    }\n",
       "\n",
       "    .dataframe tbody tr th {\n",
       "        vertical-align: top;\n",
       "    }\n",
       "\n",
       "    .dataframe thead th {\n",
       "        text-align: right;\n",
       "    }\n",
       "</style>\n",
       "<table border=\"1\" class=\"dataframe\">\n",
       "  <thead>\n",
       "    <tr style=\"text-align: right;\">\n",
       "      <th></th>\n",
       "      <th>A_id</th>\n",
       "      <th>Size</th>\n",
       "      <th>Weight</th>\n",
       "      <th>Sweetness</th>\n",
       "      <th>Crunchiness</th>\n",
       "      <th>Juiciness</th>\n",
       "      <th>Ripeness</th>\n",
       "      <th>Acidity</th>\n",
       "      <th>Quality</th>\n",
       "    </tr>\n",
       "  </thead>\n",
       "  <tbody>\n",
       "    <tr>\n",
       "      <th>0</th>\n",
       "      <td>0.0</td>\n",
       "      <td>-3.970049</td>\n",
       "      <td>-2.512336</td>\n",
       "      <td>5.346330</td>\n",
       "      <td>-1.012009</td>\n",
       "      <td>1.844900</td>\n",
       "      <td>0.329840</td>\n",
       "      <td>-0.491590483</td>\n",
       "      <td>good</td>\n",
       "    </tr>\n",
       "    <tr>\n",
       "      <th>1</th>\n",
       "      <td>1.0</td>\n",
       "      <td>-1.195217</td>\n",
       "      <td>-2.839257</td>\n",
       "      <td>3.664059</td>\n",
       "      <td>1.588232</td>\n",
       "      <td>0.853286</td>\n",
       "      <td>0.867530</td>\n",
       "      <td>-0.722809367</td>\n",
       "      <td>good</td>\n",
       "    </tr>\n",
       "    <tr>\n",
       "      <th>2</th>\n",
       "      <td>2.0</td>\n",
       "      <td>-0.292024</td>\n",
       "      <td>-1.351282</td>\n",
       "      <td>-1.738429</td>\n",
       "      <td>-0.342616</td>\n",
       "      <td>2.838636</td>\n",
       "      <td>-0.038033</td>\n",
       "      <td>2.621636473</td>\n",
       "      <td>bad</td>\n",
       "    </tr>\n",
       "    <tr>\n",
       "      <th>3</th>\n",
       "      <td>3.0</td>\n",
       "      <td>-0.657196</td>\n",
       "      <td>-2.271627</td>\n",
       "      <td>1.324874</td>\n",
       "      <td>-0.097875</td>\n",
       "      <td>3.637970</td>\n",
       "      <td>-3.413761</td>\n",
       "      <td>0.790723217</td>\n",
       "      <td>good</td>\n",
       "    </tr>\n",
       "    <tr>\n",
       "      <th>4</th>\n",
       "      <td>4.0</td>\n",
       "      <td>1.364217</td>\n",
       "      <td>-1.296612</td>\n",
       "      <td>-0.384658</td>\n",
       "      <td>-0.553006</td>\n",
       "      <td>3.030874</td>\n",
       "      <td>-1.303849</td>\n",
       "      <td>0.501984036</td>\n",
       "      <td>good</td>\n",
       "    </tr>\n",
       "  </tbody>\n",
       "</table>\n",
       "</div>"
      ],
      "text/plain": [
       "   A_id      Size    Weight  Sweetness  Crunchiness  Juiciness  Ripeness  \\\n",
       "0   0.0 -3.970049 -2.512336   5.346330    -1.012009   1.844900  0.329840   \n",
       "1   1.0 -1.195217 -2.839257   3.664059     1.588232   0.853286  0.867530   \n",
       "2   2.0 -0.292024 -1.351282  -1.738429    -0.342616   2.838636 -0.038033   \n",
       "3   3.0 -0.657196 -2.271627   1.324874    -0.097875   3.637970 -3.413761   \n",
       "4   4.0  1.364217 -1.296612  -0.384658    -0.553006   3.030874 -1.303849   \n",
       "\n",
       "        Acidity Quality  \n",
       "0  -0.491590483    good  \n",
       "1  -0.722809367    good  \n",
       "2   2.621636473     bad  \n",
       "3   0.790723217    good  \n",
       "4   0.501984036    good  "
      ]
     },
     "execution_count": 3,
     "metadata": {},
     "output_type": "execute_result"
    }
   ],
   "source": [
    "filename = \"/kaggle/input/apple-quality/apple_quality.csv\"\n",
    "raw_data = pd.read_csv(filename)\n",
    "raw_data.head()"
   ]
  },
  {
   "cell_type": "markdown",
   "id": "38bfb704",
   "metadata": {
    "papermill": {
     "duration": 0.00517,
     "end_time": "2025-07-09T11:04:37.279818",
     "exception": false,
     "start_time": "2025-07-09T11:04:37.274648",
     "status": "completed"
    },
    "tags": []
   },
   "source": [
    "**Vizualizacija**\n",
    "\n",
    "Ukaz *.info()* ponuja kratek povzetek DataFrame-a, ki prikazuje tipe stolpcev, število neničelnih vrednosti in splošno porabo pomnilnika. Iz rezultatov je očitno, da v mojih podatkih ničenih vrednosti ni."
   ]
  },
  {
   "cell_type": "code",
   "execution_count": 4,
   "id": "349482f5",
   "metadata": {
    "execution": {
     "iopub.execute_input": "2025-07-09T11:04:37.292446Z",
     "iopub.status.busy": "2025-07-09T11:04:37.291987Z",
     "iopub.status.idle": "2025-07-09T11:04:37.323989Z",
     "shell.execute_reply": "2025-07-09T11:04:37.322705Z"
    },
    "papermill": {
     "duration": 0.040991,
     "end_time": "2025-07-09T11:04:37.326287",
     "exception": false,
     "start_time": "2025-07-09T11:04:37.285296",
     "status": "completed"
    },
    "tags": []
   },
   "outputs": [
    {
     "name": "stdout",
     "output_type": "stream",
     "text": [
      "<class 'pandas.core.frame.DataFrame'>\n",
      "RangeIndex: 4001 entries, 0 to 4000\n",
      "Data columns (total 9 columns):\n",
      " #   Column       Non-Null Count  Dtype  \n",
      "---  ------       --------------  -----  \n",
      " 0   A_id         4000 non-null   float64\n",
      " 1   Size         4000 non-null   float64\n",
      " 2   Weight       4000 non-null   float64\n",
      " 3   Sweetness    4000 non-null   float64\n",
      " 4   Crunchiness  4000 non-null   float64\n",
      " 5   Juiciness    4000 non-null   float64\n",
      " 6   Ripeness     4000 non-null   float64\n",
      " 7   Acidity      4001 non-null   object \n",
      " 8   Quality      4000 non-null   object \n",
      "dtypes: float64(7), object(2)\n",
      "memory usage: 281.4+ KB\n"
     ]
    }
   ],
   "source": [
    "raw_data.info()"
   ]
  },
  {
   "cell_type": "markdown",
   "id": "ed65d9dd",
   "metadata": {
    "papermill": {
     "duration": 0.005402,
     "end_time": "2025-07-09T11:04:37.337743",
     "exception": false,
     "start_time": "2025-07-09T11:04:37.332341",
     "status": "completed"
    },
    "tags": []
   },
   "source": [
    "Ukaz *.describe()* nam omogoča vpogled v osnovne statistične vrednosti naših podatkov. Spodaj pa so vrednosti podatkov predstavljene še v histogramih za lažjo vizualizacijo. Iz njiju je razvidna porazdelitev vrednosti podatkov in pa njihov razpon."
   ]
  },
  {
   "cell_type": "code",
   "execution_count": 5,
   "id": "77c37430",
   "metadata": {
    "execution": {
     "iopub.execute_input": "2025-07-09T11:04:37.351394Z",
     "iopub.status.busy": "2025-07-09T11:04:37.350911Z",
     "iopub.status.idle": "2025-07-09T11:04:37.392329Z",
     "shell.execute_reply": "2025-07-09T11:04:37.390140Z"
    },
    "papermill": {
     "duration": 0.052491,
     "end_time": "2025-07-09T11:04:37.395869",
     "exception": false,
     "start_time": "2025-07-09T11:04:37.343378",
     "status": "completed"
    },
    "tags": []
   },
   "outputs": [
    {
     "data": {
      "text/html": [
       "<div>\n",
       "<style scoped>\n",
       "    .dataframe tbody tr th:only-of-type {\n",
       "        vertical-align: middle;\n",
       "    }\n",
       "\n",
       "    .dataframe tbody tr th {\n",
       "        vertical-align: top;\n",
       "    }\n",
       "\n",
       "    .dataframe thead th {\n",
       "        text-align: right;\n",
       "    }\n",
       "</style>\n",
       "<table border=\"1\" class=\"dataframe\">\n",
       "  <thead>\n",
       "    <tr style=\"text-align: right;\">\n",
       "      <th></th>\n",
       "      <th>A_id</th>\n",
       "      <th>Size</th>\n",
       "      <th>Weight</th>\n",
       "      <th>Sweetness</th>\n",
       "      <th>Crunchiness</th>\n",
       "      <th>Juiciness</th>\n",
       "      <th>Ripeness</th>\n",
       "    </tr>\n",
       "  </thead>\n",
       "  <tbody>\n",
       "    <tr>\n",
       "      <th>count</th>\n",
       "      <td>4000.000000</td>\n",
       "      <td>4000.000000</td>\n",
       "      <td>4000.000000</td>\n",
       "      <td>4000.000000</td>\n",
       "      <td>4000.000000</td>\n",
       "      <td>4000.000000</td>\n",
       "      <td>4000.000000</td>\n",
       "    </tr>\n",
       "    <tr>\n",
       "      <th>mean</th>\n",
       "      <td>1999.500000</td>\n",
       "      <td>-0.503015</td>\n",
       "      <td>-0.989547</td>\n",
       "      <td>-0.470479</td>\n",
       "      <td>0.985478</td>\n",
       "      <td>0.512118</td>\n",
       "      <td>0.498277</td>\n",
       "    </tr>\n",
       "    <tr>\n",
       "      <th>std</th>\n",
       "      <td>1154.844867</td>\n",
       "      <td>1.928059</td>\n",
       "      <td>1.602507</td>\n",
       "      <td>1.943441</td>\n",
       "      <td>1.402757</td>\n",
       "      <td>1.930286</td>\n",
       "      <td>1.874427</td>\n",
       "    </tr>\n",
       "    <tr>\n",
       "      <th>min</th>\n",
       "      <td>0.000000</td>\n",
       "      <td>-7.151703</td>\n",
       "      <td>-7.149848</td>\n",
       "      <td>-6.894485</td>\n",
       "      <td>-6.055058</td>\n",
       "      <td>-5.961897</td>\n",
       "      <td>-5.864599</td>\n",
       "    </tr>\n",
       "    <tr>\n",
       "      <th>25%</th>\n",
       "      <td>999.750000</td>\n",
       "      <td>-1.816765</td>\n",
       "      <td>-2.011770</td>\n",
       "      <td>-1.738425</td>\n",
       "      <td>0.062764</td>\n",
       "      <td>-0.801286</td>\n",
       "      <td>-0.771677</td>\n",
       "    </tr>\n",
       "    <tr>\n",
       "      <th>50%</th>\n",
       "      <td>1999.500000</td>\n",
       "      <td>-0.513703</td>\n",
       "      <td>-0.984736</td>\n",
       "      <td>-0.504758</td>\n",
       "      <td>0.998249</td>\n",
       "      <td>0.534219</td>\n",
       "      <td>0.503445</td>\n",
       "    </tr>\n",
       "    <tr>\n",
       "      <th>75%</th>\n",
       "      <td>2999.250000</td>\n",
       "      <td>0.805526</td>\n",
       "      <td>0.030976</td>\n",
       "      <td>0.801922</td>\n",
       "      <td>1.894234</td>\n",
       "      <td>1.835976</td>\n",
       "      <td>1.766212</td>\n",
       "    </tr>\n",
       "    <tr>\n",
       "      <th>max</th>\n",
       "      <td>3999.000000</td>\n",
       "      <td>6.406367</td>\n",
       "      <td>5.790714</td>\n",
       "      <td>6.374916</td>\n",
       "      <td>7.619852</td>\n",
       "      <td>7.364403</td>\n",
       "      <td>7.237837</td>\n",
       "    </tr>\n",
       "  </tbody>\n",
       "</table>\n",
       "</div>"
      ],
      "text/plain": [
       "              A_id         Size       Weight    Sweetness  Crunchiness  \\\n",
       "count  4000.000000  4000.000000  4000.000000  4000.000000  4000.000000   \n",
       "mean   1999.500000    -0.503015    -0.989547    -0.470479     0.985478   \n",
       "std    1154.844867     1.928059     1.602507     1.943441     1.402757   \n",
       "min       0.000000    -7.151703    -7.149848    -6.894485    -6.055058   \n",
       "25%     999.750000    -1.816765    -2.011770    -1.738425     0.062764   \n",
       "50%    1999.500000    -0.513703    -0.984736    -0.504758     0.998249   \n",
       "75%    2999.250000     0.805526     0.030976     0.801922     1.894234   \n",
       "max    3999.000000     6.406367     5.790714     6.374916     7.619852   \n",
       "\n",
       "         Juiciness     Ripeness  \n",
       "count  4000.000000  4000.000000  \n",
       "mean      0.512118     0.498277  \n",
       "std       1.930286     1.874427  \n",
       "min      -5.961897    -5.864599  \n",
       "25%      -0.801286    -0.771677  \n",
       "50%       0.534219     0.503445  \n",
       "75%       1.835976     1.766212  \n",
       "max       7.364403     7.237837  "
      ]
     },
     "execution_count": 5,
     "metadata": {},
     "output_type": "execute_result"
    }
   ],
   "source": [
    "raw_data.describe()"
   ]
  },
  {
   "cell_type": "code",
   "execution_count": 6,
   "id": "f83b506e",
   "metadata": {
    "execution": {
     "iopub.execute_input": "2025-07-09T11:04:37.411273Z",
     "iopub.status.busy": "2025-07-09T11:04:37.410791Z",
     "iopub.status.idle": "2025-07-09T11:04:38.623675Z",
     "shell.execute_reply": "2025-07-09T11:04:38.622025Z"
    },
    "papermill": {
     "duration": 1.224183,
     "end_time": "2025-07-09T11:04:38.626058",
     "exception": false,
     "start_time": "2025-07-09T11:04:37.401875",
     "status": "completed"
    },
    "tags": []
   },
   "outputs": [
    {
     "data": {
      "text/plain": [
       "array([[<Axes: title={'center': 'Size'}>,\n",
       "        <Axes: title={'center': 'Weight'}>],\n",
       "       [<Axes: title={'center': 'Sweetness'}>,\n",
       "        <Axes: title={'center': 'Crunchiness'}>],\n",
       "       [<Axes: title={'center': 'Juiciness'}>,\n",
       "        <Axes: title={'center': 'Ripeness'}>]], dtype=object)"
      ]
     },
     "execution_count": 6,
     "metadata": {},
     "output_type": "execute_result"
    },
    {
     "data": {
      "image/png": "[encoded data removed]",
      "text/plain": [
       "<Figure size 640x480 with 6 Axes>"
      ]
     },
     "metadata": {},
     "output_type": "display_data"
    }
   ],
   "source": [
    "raw_data.drop(columns=[\"A_id\"]).hist()"
   ]
  },
  {
   "cell_type": "markdown",
   "id": "4268b822",
   "metadata": {
    "papermill": {
     "duration": 0.005988,
     "end_time": "2025-07-09T11:04:38.638486",
     "exception": false,
     "start_time": "2025-07-09T11:04:38.632498",
     "status": "completed"
    },
    "tags": []
   },
   "source": [
    "**Priprava podatkov**\n",
    "\n",
    "Zaradi klasifikacijskih algoritmov, ki jih bom v nadaljevanju uporabila, je dobra odločitev, da odstranim stolpec \"A-id\". Oba algortima bi se lahko, če enolični identifikator pustim v podatkih, naučila predvidevat o končni kvalifikaciji z njegovo pomočjo, ki pa v resnici nima povezave na to ali je jabolko dobro ali ne."
   ]
  },
  {
   "cell_type": "code",
   "execution_count": 7,
   "id": "b55e46e2",
   "metadata": {
    "execution": {
     "iopub.execute_input": "2025-07-09T11:04:38.652770Z",
     "iopub.status.busy": "2025-07-09T11:04:38.652332Z",
     "iopub.status.idle": "2025-07-09T11:04:38.669717Z",
     "shell.execute_reply": "2025-07-09T11:04:38.668390Z"
    },
    "papermill": {
     "duration": 0.026905,
     "end_time": "2025-07-09T11:04:38.671660",
     "exception": false,
     "start_time": "2025-07-09T11:04:38.644755",
     "status": "completed"
    },
    "tags": []
   },
   "outputs": [
    {
     "data": {
      "text/html": [
       "<div>\n",
       "<style scoped>\n",
       "    .dataframe tbody tr th:only-of-type {\n",
       "        vertical-align: middle;\n",
       "    }\n",
       "\n",
       "    .dataframe tbody tr th {\n",
       "        vertical-align: top;\n",
       "    }\n",
       "\n",
       "    .dataframe thead th {\n",
       "        text-align: right;\n",
       "    }\n",
       "</style>\n",
       "<table border=\"1\" class=\"dataframe\">\n",
       "  <thead>\n",
       "    <tr style=\"text-align: right;\">\n",
       "      <th></th>\n",
       "      <th>Size</th>\n",
       "      <th>Weight</th>\n",
       "      <th>Sweetness</th>\n",
       "      <th>Crunchiness</th>\n",
       "      <th>Juiciness</th>\n",
       "      <th>Ripeness</th>\n",
       "      <th>Acidity</th>\n",
       "      <th>Quality</th>\n",
       "    </tr>\n",
       "  </thead>\n",
       "  <tbody>\n",
       "    <tr>\n",
       "      <th>0</th>\n",
       "      <td>-3.970049</td>\n",
       "      <td>-2.512336</td>\n",
       "      <td>5.346330</td>\n",
       "      <td>-1.012009</td>\n",
       "      <td>1.844900</td>\n",
       "      <td>0.329840</td>\n",
       "      <td>-0.491590483</td>\n",
       "      <td>good</td>\n",
       "    </tr>\n",
       "    <tr>\n",
       "      <th>1</th>\n",
       "      <td>-1.195217</td>\n",
       "      <td>-2.839257</td>\n",
       "      <td>3.664059</td>\n",
       "      <td>1.588232</td>\n",
       "      <td>0.853286</td>\n",
       "      <td>0.867530</td>\n",
       "      <td>-0.722809367</td>\n",
       "      <td>good</td>\n",
       "    </tr>\n",
       "    <tr>\n",
       "      <th>2</th>\n",
       "      <td>-0.292024</td>\n",
       "      <td>-1.351282</td>\n",
       "      <td>-1.738429</td>\n",
       "      <td>-0.342616</td>\n",
       "      <td>2.838636</td>\n",
       "      <td>-0.038033</td>\n",
       "      <td>2.621636473</td>\n",
       "      <td>bad</td>\n",
       "    </tr>\n",
       "    <tr>\n",
       "      <th>3</th>\n",
       "      <td>-0.657196</td>\n",
       "      <td>-2.271627</td>\n",
       "      <td>1.324874</td>\n",
       "      <td>-0.097875</td>\n",
       "      <td>3.637970</td>\n",
       "      <td>-3.413761</td>\n",
       "      <td>0.790723217</td>\n",
       "      <td>good</td>\n",
       "    </tr>\n",
       "    <tr>\n",
       "      <th>4</th>\n",
       "      <td>1.364217</td>\n",
       "      <td>-1.296612</td>\n",
       "      <td>-0.384658</td>\n",
       "      <td>-0.553006</td>\n",
       "      <td>3.030874</td>\n",
       "      <td>-1.303849</td>\n",
       "      <td>0.501984036</td>\n",
       "      <td>good</td>\n",
       "    </tr>\n",
       "  </tbody>\n",
       "</table>\n",
       "</div>"
      ],
      "text/plain": [
       "       Size    Weight  Sweetness  Crunchiness  Juiciness  Ripeness  \\\n",
       "0 -3.970049 -2.512336   5.346330    -1.012009   1.844900  0.329840   \n",
       "1 -1.195217 -2.839257   3.664059     1.588232   0.853286  0.867530   \n",
       "2 -0.292024 -1.351282  -1.738429    -0.342616   2.838636 -0.038033   \n",
       "3 -0.657196 -2.271627   1.324874    -0.097875   3.637970 -3.413761   \n",
       "4  1.364217 -1.296612  -0.384658    -0.553006   3.030874 -1.303849   \n",
       "\n",
       "        Acidity Quality  \n",
       "0  -0.491590483    good  \n",
       "1  -0.722809367    good  \n",
       "2   2.621636473     bad  \n",
       "3   0.790723217    good  \n",
       "4   0.501984036    good  "
      ]
     },
     "execution_count": 7,
     "metadata": {},
     "output_type": "execute_result"
    }
   ],
   "source": [
    "data = raw_data.drop(columns=[\"A_id\"])\n",
    "data.head()"
   ]
  },
  {
   "cell_type": "markdown",
   "id": "1a02d22e",
   "metadata": {
    "papermill": {
     "duration": 0.006275,
     "end_time": "2025-07-09T11:04:38.684607",
     "exception": false,
     "start_time": "2025-07-09T11:04:38.678332",
     "status": "completed"
    },
    "tags": []
   },
   "source": [
    "# Modeliranje"
   ]
  },
  {
   "cell_type": "markdown",
   "id": "4335ddd6",
   "metadata": {
    "papermill": {
     "duration": 0.006191,
     "end_time": "2025-07-09T11:04:38.697392",
     "exception": false,
     "start_time": "2025-07-09T11:04:38.691201",
     "status": "completed"
    },
    "tags": []
   },
   "source": [
    "## Naive Bayes\n",
    "\n",
    "Naive Bayes je nabor metod za nadzorovano učenje, ki temeljijo na Bayesovem izreku s predpostavko o pogojni neodvisnosti med parametri. </br>\n",
    "Bayesov izrek:</br></br>\n",
    "        P(Y∣X) = ( P(X∣Y) * P(Y) ) / P(X)</br></br>\n",
    "\n",
    "Ker so moji podatki zvezni in iz zgornjih histogramov je razvidno da so v normalni porazdelitvi, sem se odločila za uporabo algoritma Gaussian Naive Bayes. \n",
    "\n",
    "Spodnja koda uvozi razreda train_test_split in GaussianNB iz knjižnice scikit-learn. Prvi nam omogoča deljenje podatkov v skupini za treniranje in testiranje. Slednji pa je klasifikacijski algoritem Gaussian Naive Bayes.\n"
   ]
  },
  {
   "cell_type": "code",
   "execution_count": 8,
   "id": "7969dc8c",
   "metadata": {
    "execution": {
     "iopub.execute_input": "2025-07-09T11:04:38.712122Z",
     "iopub.status.busy": "2025-07-09T11:04:38.711630Z",
     "iopub.status.idle": "2025-07-09T11:04:40.762375Z",
     "shell.execute_reply": "2025-07-09T11:04:40.761009Z"
    },
    "papermill": {
     "duration": 2.060935,
     "end_time": "2025-07-09T11:04:40.764721",
     "exception": false,
     "start_time": "2025-07-09T11:04:38.703786",
     "status": "completed"
    },
    "tags": []
   },
   "outputs": [],
   "source": [
    "from sklearn.model_selection import train_test_split\n",
    "from sklearn.naive_bayes import GaussianNB"
   ]
  },
  {
   "cell_type": "markdown",
   "id": "0805b452",
   "metadata": {
    "papermill": {
     "duration": 0.006592,
     "end_time": "2025-07-09T11:04:40.778658",
     "exception": false,
     "start_time": "2025-07-09T11:04:40.772066",
     "status": "completed"
    },
    "tags": []
   },
   "source": [
    "Spodnja koda loči ciljno spremenljivko (Quality) v Y in shrani preostale vrednosti v X. Model mora napovedati, ali je jabolko kakovostno ali ne, zato vrednost Quality ohranimo kot našo izhodno spremenljivko (Y). Preostale podatke uporabimo kot vhodne značilnosti (X) za učenje modela."
   ]
  },
  {
   "cell_type": "code",
   "execution_count": 9,
   "id": "a519a0ac",
   "metadata": {
    "execution": {
     "iopub.execute_input": "2025-07-09T11:04:40.794976Z",
     "iopub.status.busy": "2025-07-09T11:04:40.794282Z",
     "iopub.status.idle": "2025-07-09T11:04:40.805562Z",
     "shell.execute_reply": "2025-07-09T11:04:40.804252Z"
    },
    "papermill": {
     "duration": 0.021653,
     "end_time": "2025-07-09T11:04:40.807842",
     "exception": false,
     "start_time": "2025-07-09T11:04:40.786189",
     "status": "completed"
    },
    "tags": []
   },
   "outputs": [
    {
     "data": {
      "text/plain": [
       "0    good\n",
       "1    good\n",
       "2     bad\n",
       "3    good\n",
       "4    good\n",
       "Name: Quality, dtype: object"
      ]
     },
     "execution_count": 9,
     "metadata": {},
     "output_type": "execute_result"
    }
   ],
   "source": [
    "Y = data[\"Quality\"]\n",
    "X = data.drop(columns=[\"Quality\"])\n",
    "\n",
    "Y.head()"
   ]
  },
  {
   "cell_type": "code",
   "execution_count": 10,
   "id": "06a6484c",
   "metadata": {
    "execution": {
     "iopub.execute_input": "2025-07-09T11:04:40.823497Z",
     "iopub.status.busy": "2025-07-09T11:04:40.823071Z",
     "iopub.status.idle": "2025-07-09T11:04:40.836725Z",
     "shell.execute_reply": "2025-07-09T11:04:40.835631Z"
    },
    "papermill": {
     "duration": 0.023797,
     "end_time": "2025-07-09T11:04:40.838893",
     "exception": false,
     "start_time": "2025-07-09T11:04:40.815096",
     "status": "completed"
    },
    "tags": []
   },
   "outputs": [
    {
     "data": {
      "text/html": [
       "<div>\n",
       "<style scoped>\n",
       "    .dataframe tbody tr th:only-of-type {\n",
       "        vertical-align: middle;\n",
       "    }\n",
       "\n",
       "    .dataframe tbody tr th {\n",
       "        vertical-align: top;\n",
       "    }\n",
       "\n",
       "    .dataframe thead th {\n",
       "        text-align: right;\n",
       "    }\n",
       "</style>\n",
       "<table border=\"1\" class=\"dataframe\">\n",
       "  <thead>\n",
       "    <tr style=\"text-align: right;\">\n",
       "      <th></th>\n",
       "      <th>Size</th>\n",
       "      <th>Weight</th>\n",
       "      <th>Sweetness</th>\n",
       "      <th>Crunchiness</th>\n",
       "      <th>Juiciness</th>\n",
       "      <th>Ripeness</th>\n",
       "      <th>Acidity</th>\n",
       "    </tr>\n",
       "  </thead>\n",
       "  <tbody>\n",
       "    <tr>\n",
       "      <th>0</th>\n",
       "      <td>-3.970049</td>\n",
       "      <td>-2.512336</td>\n",
       "      <td>5.346330</td>\n",
       "      <td>-1.012009</td>\n",
       "      <td>1.844900</td>\n",
       "      <td>0.329840</td>\n",
       "      <td>-0.491590483</td>\n",
       "    </tr>\n",
       "    <tr>\n",
       "      <th>1</th>\n",
       "      <td>-1.195217</td>\n",
       "      <td>-2.839257</td>\n",
       "      <td>3.664059</td>\n",
       "      <td>1.588232</td>\n",
       "      <td>0.853286</td>\n",
       "      <td>0.867530</td>\n",
       "      <td>-0.722809367</td>\n",
       "    </tr>\n",
       "    <tr>\n",
       "      <th>2</th>\n",
       "      <td>-0.292024</td>\n",
       "      <td>-1.351282</td>\n",
       "      <td>-1.738429</td>\n",
       "      <td>-0.342616</td>\n",
       "      <td>2.838636</td>\n",
       "      <td>-0.038033</td>\n",
       "      <td>2.621636473</td>\n",
       "    </tr>\n",
       "    <tr>\n",
       "      <th>3</th>\n",
       "      <td>-0.657196</td>\n",
       "      <td>-2.271627</td>\n",
       "      <td>1.324874</td>\n",
       "      <td>-0.097875</td>\n",
       "      <td>3.637970</td>\n",
       "      <td>-3.413761</td>\n",
       "      <td>0.790723217</td>\n",
       "    </tr>\n",
       "    <tr>\n",
       "      <th>4</th>\n",
       "      <td>1.364217</td>\n",
       "      <td>-1.296612</td>\n",
       "      <td>-0.384658</td>\n",
       "      <td>-0.553006</td>\n",
       "      <td>3.030874</td>\n",
       "      <td>-1.303849</td>\n",
       "      <td>0.501984036</td>\n",
       "    </tr>\n",
       "  </tbody>\n",
       "</table>\n",
       "</div>"
      ],
      "text/plain": [
       "       Size    Weight  Sweetness  Crunchiness  Juiciness  Ripeness  \\\n",
       "0 -3.970049 -2.512336   5.346330    -1.012009   1.844900  0.329840   \n",
       "1 -1.195217 -2.839257   3.664059     1.588232   0.853286  0.867530   \n",
       "2 -0.292024 -1.351282  -1.738429    -0.342616   2.838636 -0.038033   \n",
       "3 -0.657196 -2.271627   1.324874    -0.097875   3.637970 -3.413761   \n",
       "4  1.364217 -1.296612  -0.384658    -0.553006   3.030874 -1.303849   \n",
       "\n",
       "        Acidity  \n",
       "0  -0.491590483  \n",
       "1  -0.722809367  \n",
       "2   2.621636473  \n",
       "3   0.790723217  \n",
       "4   0.501984036  "
      ]
     },
     "execution_count": 10,
     "metadata": {},
     "output_type": "execute_result"
    }
   ],
   "source": [
    "X.head()"
   ]
  },
  {
   "cell_type": "markdown",
   "id": "9944f40b",
   "metadata": {
    "papermill": {
     "duration": 0.006887,
     "end_time": "2025-07-09T11:04:40.853418",
     "exception": false,
     "start_time": "2025-07-09T11:04:40.846531",
     "status": "completed"
    },
    "tags": []
   },
   "source": [
    "Koda razdeli vrednosti spremenljivk (X) in razreda (Y) v učno in testno skupino, tako da za testiranje uporabi 20% podatkov. Razdelitev podatkov zagotavlja, da imamo ločene nabore za učenje in ocenjevanje delovanja modela. Z nastavitvijo fiksnega random_state omogočimo ponovljivost razdelitve za dosledne rezultate pri vsakem ponavljanju."
   ]
  },
  {
   "cell_type": "code",
   "execution_count": 11,
   "id": "84fb842c",
   "metadata": {
    "execution": {
     "iopub.execute_input": "2025-07-09T11:04:40.869951Z",
     "iopub.status.busy": "2025-07-09T11:04:40.869561Z",
     "iopub.status.idle": "2025-07-09T11:04:40.878231Z",
     "shell.execute_reply": "2025-07-09T11:04:40.877051Z"
    },
    "papermill": {
     "duration": 0.019862,
     "end_time": "2025-07-09T11:04:40.880840",
     "exception": false,
     "start_time": "2025-07-09T11:04:40.860978",
     "status": "completed"
    },
    "tags": []
   },
   "outputs": [],
   "source": [
    "train_X, test_X, train_Y, test_Y = train_test_split(X, Y, test_size=0.2, random_state=12)"
   ]
  },
  {
   "cell_type": "code",
   "execution_count": 12,
   "id": "1b8b905f",
   "metadata": {
    "execution": {
     "iopub.execute_input": "2025-07-09T11:04:40.897241Z",
     "iopub.status.busy": "2025-07-09T11:04:40.896803Z",
     "iopub.status.idle": "2025-07-09T11:04:40.924446Z",
     "shell.execute_reply": "2025-07-09T11:04:40.923070Z"
    },
    "papermill": {
     "duration": 0.038119,
     "end_time": "2025-07-09T11:04:40.926458",
     "exception": false,
     "start_time": "2025-07-09T11:04:40.888339",
     "status": "completed"
    },
    "tags": []
   },
   "outputs": [
    {
     "data": {
      "text/html": [
       "<div>\n",
       "<style scoped>\n",
       "    .dataframe tbody tr th:only-of-type {\n",
       "        vertical-align: middle;\n",
       "    }\n",
       "\n",
       "    .dataframe tbody tr th {\n",
       "        vertical-align: top;\n",
       "    }\n",
       "\n",
       "    .dataframe thead th {\n",
       "        text-align: right;\n",
       "    }\n",
       "</style>\n",
       "<table border=\"1\" class=\"dataframe\">\n",
       "  <thead>\n",
       "    <tr style=\"text-align: right;\">\n",
       "      <th></th>\n",
       "      <th>Size</th>\n",
       "      <th>Weight</th>\n",
       "      <th>Sweetness</th>\n",
       "      <th>Crunchiness</th>\n",
       "      <th>Juiciness</th>\n",
       "      <th>Ripeness</th>\n",
       "    </tr>\n",
       "  </thead>\n",
       "  <tbody>\n",
       "    <tr>\n",
       "      <th>count</th>\n",
       "      <td>3199.000000</td>\n",
       "      <td>3199.000000</td>\n",
       "      <td>3199.000000</td>\n",
       "      <td>3199.000000</td>\n",
       "      <td>3199.000000</td>\n",
       "      <td>3199.000000</td>\n",
       "    </tr>\n",
       "    <tr>\n",
       "      <th>mean</th>\n",
       "      <td>-0.502789</td>\n",
       "      <td>-0.984242</td>\n",
       "      <td>-0.489250</td>\n",
       "      <td>0.975399</td>\n",
       "      <td>0.543010</td>\n",
       "      <td>0.482416</td>\n",
       "    </tr>\n",
       "    <tr>\n",
       "      <th>std</th>\n",
       "      <td>1.919646</td>\n",
       "      <td>1.611408</td>\n",
       "      <td>1.932926</td>\n",
       "      <td>1.401255</td>\n",
       "      <td>1.936609</td>\n",
       "      <td>1.870028</td>\n",
       "    </tr>\n",
       "    <tr>\n",
       "      <th>min</th>\n",
       "      <td>-7.151703</td>\n",
       "      <td>-7.149848</td>\n",
       "      <td>-6.894485</td>\n",
       "      <td>-6.055058</td>\n",
       "      <td>-5.961897</td>\n",
       "      <td>-5.864599</td>\n",
       "    </tr>\n",
       "    <tr>\n",
       "      <th>25%</th>\n",
       "      <td>-1.823646</td>\n",
       "      <td>-2.017788</td>\n",
       "      <td>-1.755446</td>\n",
       "      <td>0.058341</td>\n",
       "      <td>-0.791251</td>\n",
       "      <td>-0.779425</td>\n",
       "    </tr>\n",
       "    <tr>\n",
       "      <th>50%</th>\n",
       "      <td>-0.494748</td>\n",
       "      <td>-0.983310</td>\n",
       "      <td>-0.525761</td>\n",
       "      <td>0.986936</td>\n",
       "      <td>0.592408</td>\n",
       "      <td>0.484312</td>\n",
       "    </tr>\n",
       "    <tr>\n",
       "      <th>75%</th>\n",
       "      <td>0.824782</td>\n",
       "      <td>0.056143</td>\n",
       "      <td>0.777472</td>\n",
       "      <td>1.886376</td>\n",
       "      <td>1.857716</td>\n",
       "      <td>1.745029</td>\n",
       "    </tr>\n",
       "    <tr>\n",
       "      <th>max</th>\n",
       "      <td>6.406367</td>\n",
       "      <td>5.790714</td>\n",
       "      <td>5.862356</td>\n",
       "      <td>7.619852</td>\n",
       "      <td>7.364403</td>\n",
       "      <td>7.237837</td>\n",
       "    </tr>\n",
       "  </tbody>\n",
       "</table>\n",
       "</div>"
      ],
      "text/plain": [
       "              Size       Weight    Sweetness  Crunchiness    Juiciness  \\\n",
       "count  3199.000000  3199.000000  3199.000000  3199.000000  3199.000000   \n",
       "mean     -0.502789    -0.984242    -0.489250     0.975399     0.543010   \n",
       "std       1.919646     1.611408     1.932926     1.401255     1.936609   \n",
       "min      -7.151703    -7.149848    -6.894485    -6.055058    -5.961897   \n",
       "25%      -1.823646    -2.017788    -1.755446     0.058341    -0.791251   \n",
       "50%      -0.494748    -0.983310    -0.525761     0.986936     0.592408   \n",
       "75%       0.824782     0.056143     0.777472     1.886376     1.857716   \n",
       "max       6.406367     5.790714     5.862356     7.619852     7.364403   \n",
       "\n",
       "          Ripeness  \n",
       "count  3199.000000  \n",
       "mean      0.482416  \n",
       "std       1.870028  \n",
       "min      -5.864599  \n",
       "25%      -0.779425  \n",
       "50%       0.484312  \n",
       "75%       1.745029  \n",
       "max       7.237837  "
      ]
     },
     "execution_count": 12,
     "metadata": {},
     "output_type": "execute_result"
    }
   ],
   "source": [
    "train_X.describe()"
   ]
  },
  {
   "cell_type": "code",
   "execution_count": 13,
   "id": "28d09747",
   "metadata": {
    "execution": {
     "iopub.execute_input": "2025-07-09T11:04:40.942356Z",
     "iopub.status.busy": "2025-07-09T11:04:40.941950Z",
     "iopub.status.idle": "2025-07-09T11:04:40.967124Z",
     "shell.execute_reply": "2025-07-09T11:04:40.965810Z"
    },
    "papermill": {
     "duration": 0.035625,
     "end_time": "2025-07-09T11:04:40.969400",
     "exception": false,
     "start_time": "2025-07-09T11:04:40.933775",
     "status": "completed"
    },
    "tags": []
   },
   "outputs": [
    {
     "data": {
      "text/html": [
       "<div>\n",
       "<style scoped>\n",
       "    .dataframe tbody tr th:only-of-type {\n",
       "        vertical-align: middle;\n",
       "    }\n",
       "\n",
       "    .dataframe tbody tr th {\n",
       "        vertical-align: top;\n",
       "    }\n",
       "\n",
       "    .dataframe thead th {\n",
       "        text-align: right;\n",
       "    }\n",
       "</style>\n",
       "<table border=\"1\" class=\"dataframe\">\n",
       "  <thead>\n",
       "    <tr style=\"text-align: right;\">\n",
       "      <th></th>\n",
       "      <th>Size</th>\n",
       "      <th>Weight</th>\n",
       "      <th>Sweetness</th>\n",
       "      <th>Crunchiness</th>\n",
       "      <th>Juiciness</th>\n",
       "      <th>Ripeness</th>\n",
       "    </tr>\n",
       "  </thead>\n",
       "  <tbody>\n",
       "    <tr>\n",
       "      <th>count</th>\n",
       "      <td>801.000000</td>\n",
       "      <td>801.000000</td>\n",
       "      <td>801.000000</td>\n",
       "      <td>801.000000</td>\n",
       "      <td>801.000000</td>\n",
       "      <td>801.000000</td>\n",
       "    </tr>\n",
       "    <tr>\n",
       "      <th>mean</th>\n",
       "      <td>-0.503916</td>\n",
       "      <td>-1.010733</td>\n",
       "      <td>-0.395510</td>\n",
       "      <td>1.025730</td>\n",
       "      <td>0.388745</td>\n",
       "      <td>0.561624</td>\n",
       "    </tr>\n",
       "    <tr>\n",
       "      <th>std</th>\n",
       "      <td>1.962510</td>\n",
       "      <td>1.567266</td>\n",
       "      <td>1.984333</td>\n",
       "      <td>1.408898</td>\n",
       "      <td>1.901014</td>\n",
       "      <td>1.891742</td>\n",
       "    </tr>\n",
       "    <tr>\n",
       "      <th>min</th>\n",
       "      <td>-5.692093</td>\n",
       "      <td>-6.556685</td>\n",
       "      <td>-6.507847</td>\n",
       "      <td>-3.504206</td>\n",
       "      <td>-5.544053</td>\n",
       "      <td>-4.676170</td>\n",
       "    </tr>\n",
       "    <tr>\n",
       "      <th>25%</th>\n",
       "      <td>-1.794746</td>\n",
       "      <td>-1.950360</td>\n",
       "      <td>-1.696021</td>\n",
       "      <td>0.153045</td>\n",
       "      <td>-0.862523</td>\n",
       "      <td>-0.708611</td>\n",
       "    </tr>\n",
       "    <tr>\n",
       "      <th>50%</th>\n",
       "      <td>-0.601345</td>\n",
       "      <td>-0.993247</td>\n",
       "      <td>-0.444749</td>\n",
       "      <td>1.038374</td>\n",
       "      <td>0.358214</td>\n",
       "      <td>0.597073</td>\n",
       "    </tr>\n",
       "    <tr>\n",
       "      <th>75%</th>\n",
       "      <td>0.743123</td>\n",
       "      <td>-0.001955</td>\n",
       "      <td>0.864767</td>\n",
       "      <td>1.918979</td>\n",
       "      <td>1.699573</td>\n",
       "      <td>1.869721</td>\n",
       "    </tr>\n",
       "    <tr>\n",
       "      <th>max</th>\n",
       "      <td>5.866232</td>\n",
       "      <td>5.149000</td>\n",
       "      <td>6.374916</td>\n",
       "      <td>7.561485</td>\n",
       "      <td>6.252592</td>\n",
       "      <td>6.346445</td>\n",
       "    </tr>\n",
       "  </tbody>\n",
       "</table>\n",
       "</div>"
      ],
      "text/plain": [
       "             Size      Weight   Sweetness  Crunchiness   Juiciness    Ripeness\n",
       "count  801.000000  801.000000  801.000000   801.000000  801.000000  801.000000\n",
       "mean    -0.503916   -1.010733   -0.395510     1.025730    0.388745    0.561624\n",
       "std      1.962510    1.567266    1.984333     1.408898    1.901014    1.891742\n",
       "min     -5.692093   -6.556685   -6.507847    -3.504206   -5.544053   -4.676170\n",
       "25%     -1.794746   -1.950360   -1.696021     0.153045   -0.862523   -0.708611\n",
       "50%     -0.601345   -0.993247   -0.444749     1.038374    0.358214    0.597073\n",
       "75%      0.743123   -0.001955    0.864767     1.918979    1.699573    1.869721\n",
       "max      5.866232    5.149000    6.374916     7.561485    6.252592    6.346445"
      ]
     },
     "execution_count": 13,
     "metadata": {},
     "output_type": "execute_result"
    }
   ],
   "source": [
    "test_X.describe()"
   ]
  },
  {
   "cell_type": "markdown",
   "id": "1626001b",
   "metadata": {
    "papermill": {
     "duration": 0.007378,
     "end_time": "2025-07-09T11:04:40.984501",
     "exception": false,
     "start_time": "2025-07-09T11:04:40.977123",
     "status": "completed"
    },
    "tags": []
   },
   "source": [
    "### Treniranje"
   ]
  }
 ],
 "metadata": {
  "kaggle": {
   "accelerator": "none",
   "dataSources": [
    {
     "datasetId": 4291772,
     "sourceId": 7384155,
     "sourceType": "datasetVersion"
    }
   ],
   "dockerImageVersionId": 30918,
   "isGpuEnabled": false,
   "isInternetEnabled": false,
   "language": "python",
   "sourceType": "notebook"
  },
  "kernelspec": {
   "display_name": "Python 3",
   "language": "python",
   "name": "python3"
  },
  "language_info": {
   "codemirror_mode": {
    "name": "ipython",
    "version": 3
   },
   "file_extension": ".py",
   "mimetype": "text/x-python",
   "name": "python",
   "nbconvert_exporter": "python",
   "pygments_lexer": "ipython3",
   "version": "3.10.12"
  },
  "papermill": {
   "default_parameters": {},
   "duration": 10.098723,
   "end_time": "2025-07-09T11:04:41.916496",
   "environment_variables": {},
   "exception": null,
   "input_path": "__notebook__.ipynb",
   "output_path": "__notebook__.ipynb",
   "parameters": {},
   "start_time": "2025-07-09T11:04:31.817773",
   "version": "2.6.0"
  }
 },
 "nbformat": 4,
 "nbformat_minor": 5
}
