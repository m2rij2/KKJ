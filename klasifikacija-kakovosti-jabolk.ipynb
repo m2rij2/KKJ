{
 "cells": [
  {
   "cell_type": "markdown",
   "id": "68ba2289",
   "metadata": {
    "papermill": {
     "duration": 0.003689,
     "end_time": "2025-07-07T13:49:55.221400",
     "exception": false,
     "start_time": "2025-07-07T13:49:55.217711",
     "status": "completed"
    },
    "tags": []
   },
   "source": [
    "# Nalaganje osnovnih paketov\n",
    "pandas: data analisys library\n"
   ]
  },
  {
   "cell_type": "code",
   "execution_count": 1,
   "id": "891b98da",
   "metadata": {
    "execution": {
     "iopub.execute_input": "2025-07-07T13:49:55.229311Z",
     "iopub.status.busy": "2025-07-07T13:49:55.228941Z",
     "iopub.status.idle": "2025-07-07T13:49:56.132405Z",
     "shell.execute_reply": "2025-07-07T13:49:56.131379Z"
    },
    "papermill": {
     "duration": 0.909368,
     "end_time": "2025-07-07T13:49:56.134277",
     "exception": false,
     "start_time": "2025-07-07T13:49:55.224909",
     "status": "completed"
    },
    "tags": []
   },
   "outputs": [],
   "source": [
    "import pandas as pd"
   ]
  },
  {
   "cell_type": "markdown",
   "id": "53e56eea",
   "metadata": {
    "papermill": {
     "duration": 0.002966,
     "end_time": "2025-07-07T13:49:56.140683",
     "exception": false,
     "start_time": "2025-07-07T13:49:56.137717",
     "status": "completed"
    },
    "tags": []
   },
   "source": [
    "# Vhodni podatki in vizualizacija (Data understanding)\n"
   ]
  },
  {
   "cell_type": "markdown",
   "id": "cc6a2c1b",
   "metadata": {
    "papermill": {
     "duration": 0.002854,
     "end_time": "2025-07-07T13:49:56.146750",
     "exception": false,
     "start_time": "2025-07-07T13:49:56.143896",
     "status": "completed"
    },
    "tags": []
   },
   "source": [
    "**Nalaganje dataset-a**\n",
    "\n",
    "preverimo ali smo pravilno naložili dataset"
   ]
  },
  {
   "cell_type": "code",
   "execution_count": 2,
   "id": "87c6210f",
   "metadata": {
    "execution": {
     "iopub.execute_input": "2025-07-07T13:49:56.154121Z",
     "iopub.status.busy": "2025-07-07T13:49:56.153647Z",
     "iopub.status.idle": "2025-07-07T13:49:56.279004Z",
     "shell.execute_reply": "2025-07-07T13:49:56.277817Z"
    },
    "papermill": {
     "duration": 0.131055,
     "end_time": "2025-07-07T13:49:56.280856",
     "exception": false,
     "start_time": "2025-07-07T13:49:56.149801",
     "status": "completed"
    },
    "tags": []
   },
   "outputs": [
    {
     "name": "stdout",
     "output_type": "stream",
     "text": [
      "apple_quality.csv\r\n"
     ]
    }
   ],
   "source": [
    "!ls /kaggle/input/apple-quality"
   ]
  },
  {
   "cell_type": "markdown",
   "id": "458e1252",
   "metadata": {
    "papermill": {
     "duration": 0.003144,
     "end_time": "2025-07-07T13:49:56.288135",
     "exception": false,
     "start_time": "2025-07-07T13:49:56.284991",
     "status": "completed"
    },
    "tags": []
   },
   "source": [
    "Preberemo CSV datoteko in prikažemo prvih nekaj vrstic naloženega dataset-a. Ogled prvih nekaj vrstic ponuja začetni vpogled v stolpce in podatke.\n",
    "\n",
    "raw_data ... podatki v Pandas DataFrame obliki"
   ]
  },
  {
   "cell_type": "code",
   "execution_count": 3,
   "id": "162d4991",
   "metadata": {
    "execution": {
     "iopub.execute_input": "2025-07-07T13:49:56.296166Z",
     "iopub.status.busy": "2025-07-07T13:49:56.295791Z",
     "iopub.status.idle": "2025-07-07T13:49:56.350378Z",
     "shell.execute_reply": "2025-07-07T13:49:56.349355Z"
    },
    "papermill": {
     "duration": 0.060528,
     "end_time": "2025-07-07T13:49:56.352017",
     "exception": false,
     "start_time": "2025-07-07T13:49:56.291489",
     "status": "completed"
    },
    "tags": []
   },
   "outputs": [
    {
     "data": {
      "text/html": [
       "<div>\n",
       "<style scoped>\n",
       "    .dataframe tbody tr th:only-of-type {\n",
       "        vertical-align: middle;\n",
       "    }\n",
       "\n",
       "    .dataframe tbody tr th {\n",
       "        vertical-align: top;\n",
       "    }\n",
       "\n",
       "    .dataframe thead th {\n",
       "        text-align: right;\n",
       "    }\n",
       "</style>\n",
       "<table border=\"1\" class=\"dataframe\">\n",
       "  <thead>\n",
       "    <tr style=\"text-align: right;\">\n",
       "      <th></th>\n",
       "      <th>A_id</th>\n",
       "      <th>Size</th>\n",
       "      <th>Weight</th>\n",
       "      <th>Sweetness</th>\n",
       "      <th>Crunchiness</th>\n",
       "      <th>Juiciness</th>\n",
       "      <th>Ripeness</th>\n",
       "      <th>Acidity</th>\n",
       "      <th>Quality</th>\n",
       "    </tr>\n",
       "  </thead>\n",
       "  <tbody>\n",
       "    <tr>\n",
       "      <th>0</th>\n",
       "      <td>0.0</td>\n",
       "      <td>-3.970049</td>\n",
       "      <td>-2.512336</td>\n",
       "      <td>5.346330</td>\n",
       "      <td>-1.012009</td>\n",
       "      <td>1.844900</td>\n",
       "      <td>0.329840</td>\n",
       "      <td>-0.491590483</td>\n",
       "      <td>good</td>\n",
       "    </tr>\n",
       "    <tr>\n",
       "      <th>1</th>\n",
       "      <td>1.0</td>\n",
       "      <td>-1.195217</td>\n",
       "      <td>-2.839257</td>\n",
       "      <td>3.664059</td>\n",
       "      <td>1.588232</td>\n",
       "      <td>0.853286</td>\n",
       "      <td>0.867530</td>\n",
       "      <td>-0.722809367</td>\n",
       "      <td>good</td>\n",
       "    </tr>\n",
       "    <tr>\n",
       "      <th>2</th>\n",
       "      <td>2.0</td>\n",
       "      <td>-0.292024</td>\n",
       "      <td>-1.351282</td>\n",
       "      <td>-1.738429</td>\n",
       "      <td>-0.342616</td>\n",
       "      <td>2.838636</td>\n",
       "      <td>-0.038033</td>\n",
       "      <td>2.621636473</td>\n",
       "      <td>bad</td>\n",
       "    </tr>\n",
       "    <tr>\n",
       "      <th>3</th>\n",
       "      <td>3.0</td>\n",
       "      <td>-0.657196</td>\n",
       "      <td>-2.271627</td>\n",
       "      <td>1.324874</td>\n",
       "      <td>-0.097875</td>\n",
       "      <td>3.637970</td>\n",
       "      <td>-3.413761</td>\n",
       "      <td>0.790723217</td>\n",
       "      <td>good</td>\n",
       "    </tr>\n",
       "    <tr>\n",
       "      <th>4</th>\n",
       "      <td>4.0</td>\n",
       "      <td>1.364217</td>\n",
       "      <td>-1.296612</td>\n",
       "      <td>-0.384658</td>\n",
       "      <td>-0.553006</td>\n",
       "      <td>3.030874</td>\n",
       "      <td>-1.303849</td>\n",
       "      <td>0.501984036</td>\n",
       "      <td>good</td>\n",
       "    </tr>\n",
       "  </tbody>\n",
       "</table>\n",
       "</div>"
      ],
      "text/plain": [
       "   A_id      Size    Weight  Sweetness  Crunchiness  Juiciness  Ripeness  \\\n",
       "0   0.0 -3.970049 -2.512336   5.346330    -1.012009   1.844900  0.329840   \n",
       "1   1.0 -1.195217 -2.839257   3.664059     1.588232   0.853286  0.867530   \n",
       "2   2.0 -0.292024 -1.351282  -1.738429    -0.342616   2.838636 -0.038033   \n",
       "3   3.0 -0.657196 -2.271627   1.324874    -0.097875   3.637970 -3.413761   \n",
       "4   4.0  1.364217 -1.296612  -0.384658    -0.553006   3.030874 -1.303849   \n",
       "\n",
       "        Acidity Quality  \n",
       "0  -0.491590483    good  \n",
       "1  -0.722809367    good  \n",
       "2   2.621636473     bad  \n",
       "3   0.790723217    good  \n",
       "4   0.501984036    good  "
      ]
     },
     "execution_count": 3,
     "metadata": {},
     "output_type": "execute_result"
    }
   ],
   "source": [
    "filename = \"/kaggle/input/apple-quality/apple_quality.csv\"\n",
    "raw_data = pd.read_csv(filename)\n",
    "raw_data.head()"
   ]
  },
  {
   "cell_type": "markdown",
   "id": "ce760e6e",
   "metadata": {
    "papermill": {
     "duration": 0.003292,
     "end_time": "2025-07-07T13:49:56.359039",
     "exception": false,
     "start_time": "2025-07-07T13:49:56.355747",
     "status": "completed"
    },
    "tags": []
   },
   "source": [
    "**Vizualizacija**\n",
    "\n",
    "Ukaz *.info()* ponuja kratek povzetek DataFrame-a, ki prikazuje tipe stolpcev, število neničelnih vrednosti in splošno porabo pomnilnika. Iz rezultatov je očitno, da v mojih podatkih ničenih vrednosti ni."
   ]
  },
  {
   "cell_type": "code",
   "execution_count": 4,
   "id": "824f5ad7",
   "metadata": {
    "execution": {
     "iopub.execute_input": "2025-07-07T13:49:56.367503Z",
     "iopub.status.busy": "2025-07-07T13:49:56.367018Z",
     "iopub.status.idle": "2025-07-07T13:49:56.394391Z",
     "shell.execute_reply": "2025-07-07T13:49:56.393140Z"
    },
    "papermill": {
     "duration": 0.033487,
     "end_time": "2025-07-07T13:49:56.395996",
     "exception": false,
     "start_time": "2025-07-07T13:49:56.362509",
     "status": "completed"
    },
    "tags": []
   },
   "outputs": [
    {
     "name": "stdout",
     "output_type": "stream",
     "text": [
      "<class 'pandas.core.frame.DataFrame'>\n",
      "RangeIndex: 4001 entries, 0 to 4000\n",
      "Data columns (total 9 columns):\n",
      " #   Column       Non-Null Count  Dtype  \n",
      "---  ------       --------------  -----  \n",
      " 0   A_id         4000 non-null   float64\n",
      " 1   Size         4000 non-null   float64\n",
      " 2   Weight       4000 non-null   float64\n",
      " 3   Sweetness    4000 non-null   float64\n",
      " 4   Crunchiness  4000 non-null   float64\n",
      " 5   Juiciness    4000 non-null   float64\n",
      " 6   Ripeness     4000 non-null   float64\n",
      " 7   Acidity      4001 non-null   object \n",
      " 8   Quality      4000 non-null   object \n",
      "dtypes: float64(7), object(2)\n",
      "memory usage: 281.4+ KB\n"
     ]
    }
   ],
   "source": [
    "raw_data.info()"
   ]
  },
  {
   "cell_type": "markdown",
   "id": "cb841ac8",
   "metadata": {
    "papermill": {
     "duration": 0.003417,
     "end_time": "2025-07-07T13:49:56.403142",
     "exception": false,
     "start_time": "2025-07-07T13:49:56.399725",
     "status": "completed"
    },
    "tags": []
   },
   "source": [
    "Ukaz *.describe()* nam omogoča vpogled v osnovne statistične vrednosti naših podatkov. Spodaj pa so vrednosti podatkov predstavljene še v histogramih za lažjo vizualizacijo. Iz njiju je razvidna porazdelitev vrednosti podatkov in pa njihov razpon."
   ]
  },
  {
   "cell_type": "code",
   "execution_count": 5,
   "id": "907d2f1d",
   "metadata": {
    "execution": {
     "iopub.execute_input": "2025-07-07T13:49:56.411381Z",
     "iopub.status.busy": "2025-07-07T13:49:56.411040Z",
     "iopub.status.idle": "2025-07-07T13:49:56.438366Z",
     "shell.execute_reply": "2025-07-07T13:49:56.437548Z"
    },
    "papermill": {
     "duration": 0.033194,
     "end_time": "2025-07-07T13:49:56.439968",
     "exception": false,
     "start_time": "2025-07-07T13:49:56.406774",
     "status": "completed"
    },
    "tags": []
   },
   "outputs": [
    {
     "data": {
      "text/html": [
       "<div>\n",
       "<style scoped>\n",
       "    .dataframe tbody tr th:only-of-type {\n",
       "        vertical-align: middle;\n",
       "    }\n",
       "\n",
       "    .dataframe tbody tr th {\n",
       "        vertical-align: top;\n",
       "    }\n",
       "\n",
       "    .dataframe thead th {\n",
       "        text-align: right;\n",
       "    }\n",
       "</style>\n",
       "<table border=\"1\" class=\"dataframe\">\n",
       "  <thead>\n",
       "    <tr style=\"text-align: right;\">\n",
       "      <th></th>\n",
       "      <th>A_id</th>\n",
       "      <th>Size</th>\n",
       "      <th>Weight</th>\n",
       "      <th>Sweetness</th>\n",
       "      <th>Crunchiness</th>\n",
       "      <th>Juiciness</th>\n",
       "      <th>Ripeness</th>\n",
       "    </tr>\n",
       "  </thead>\n",
       "  <tbody>\n",
       "    <tr>\n",
       "      <th>count</th>\n",
       "      <td>4000.000000</td>\n",
       "      <td>4000.000000</td>\n",
       "      <td>4000.000000</td>\n",
       "      <td>4000.000000</td>\n",
       "      <td>4000.000000</td>\n",
       "      <td>4000.000000</td>\n",
       "      <td>4000.000000</td>\n",
       "    </tr>\n",
       "    <tr>\n",
       "      <th>mean</th>\n",
       "      <td>1999.500000</td>\n",
       "      <td>-0.503015</td>\n",
       "      <td>-0.989547</td>\n",
       "      <td>-0.470479</td>\n",
       "      <td>0.985478</td>\n",
       "      <td>0.512118</td>\n",
       "      <td>0.498277</td>\n",
       "    </tr>\n",
       "    <tr>\n",
       "      <th>std</th>\n",
       "      <td>1154.844867</td>\n",
       "      <td>1.928059</td>\n",
       "      <td>1.602507</td>\n",
       "      <td>1.943441</td>\n",
       "      <td>1.402757</td>\n",
       "      <td>1.930286</td>\n",
       "      <td>1.874427</td>\n",
       "    </tr>\n",
       "    <tr>\n",
       "      <th>min</th>\n",
       "      <td>0.000000</td>\n",
       "      <td>-7.151703</td>\n",
       "      <td>-7.149848</td>\n",
       "      <td>-6.894485</td>\n",
       "      <td>-6.055058</td>\n",
       "      <td>-5.961897</td>\n",
       "      <td>-5.864599</td>\n",
       "    </tr>\n",
       "    <tr>\n",
       "      <th>25%</th>\n",
       "      <td>999.750000</td>\n",
       "      <td>-1.816765</td>\n",
       "      <td>-2.011770</td>\n",
       "      <td>-1.738425</td>\n",
       "      <td>0.062764</td>\n",
       "      <td>-0.801286</td>\n",
       "      <td>-0.771677</td>\n",
       "    </tr>\n",
       "    <tr>\n",
       "      <th>50%</th>\n",
       "      <td>1999.500000</td>\n",
       "      <td>-0.513703</td>\n",
       "      <td>-0.984736</td>\n",
       "      <td>-0.504758</td>\n",
       "      <td>0.998249</td>\n",
       "      <td>0.534219</td>\n",
       "      <td>0.503445</td>\n",
       "    </tr>\n",
       "    <tr>\n",
       "      <th>75%</th>\n",
       "      <td>2999.250000</td>\n",
       "      <td>0.805526</td>\n",
       "      <td>0.030976</td>\n",
       "      <td>0.801922</td>\n",
       "      <td>1.894234</td>\n",
       "      <td>1.835976</td>\n",
       "      <td>1.766212</td>\n",
       "    </tr>\n",
       "    <tr>\n",
       "      <th>max</th>\n",
       "      <td>3999.000000</td>\n",
       "      <td>6.406367</td>\n",
       "      <td>5.790714</td>\n",
       "      <td>6.374916</td>\n",
       "      <td>7.619852</td>\n",
       "      <td>7.364403</td>\n",
       "      <td>7.237837</td>\n",
       "    </tr>\n",
       "  </tbody>\n",
       "</table>\n",
       "</div>"
      ],
      "text/plain": [
       "              A_id         Size       Weight    Sweetness  Crunchiness  \\\n",
       "count  4000.000000  4000.000000  4000.000000  4000.000000  4000.000000   \n",
       "mean   1999.500000    -0.503015    -0.989547    -0.470479     0.985478   \n",
       "std    1154.844867     1.928059     1.602507     1.943441     1.402757   \n",
       "min       0.000000    -7.151703    -7.149848    -6.894485    -6.055058   \n",
       "25%     999.750000    -1.816765    -2.011770    -1.738425     0.062764   \n",
       "50%    1999.500000    -0.513703    -0.984736    -0.504758     0.998249   \n",
       "75%    2999.250000     0.805526     0.030976     0.801922     1.894234   \n",
       "max    3999.000000     6.406367     5.790714     6.374916     7.619852   \n",
       "\n",
       "         Juiciness     Ripeness  \n",
       "count  4000.000000  4000.000000  \n",
       "mean      0.512118     0.498277  \n",
       "std       1.930286     1.874427  \n",
       "min      -5.961897    -5.864599  \n",
       "25%      -0.801286    -0.771677  \n",
       "50%       0.534219     0.503445  \n",
       "75%       1.835976     1.766212  \n",
       "max       7.364403     7.237837  "
      ]
     },
     "execution_count": 5,
     "metadata": {},
     "output_type": "execute_result"
    }
   ],
   "source": [
    "raw_data.describe()"
   ]
  },
  {
   "cell_type": "code",
   "execution_count": 6,
   "id": "80e8d0bd",
   "metadata": {
    "execution": {
     "iopub.execute_input": "2025-07-07T13:49:56.448849Z",
     "iopub.status.busy": "2025-07-07T13:49:56.448505Z",
     "iopub.status.idle": "2025-07-07T13:49:57.699493Z",
     "shell.execute_reply": "2025-07-07T13:49:57.698435Z"
    },
    "papermill": {
     "duration": 1.257292,
     "end_time": "2025-07-07T13:49:57.701142",
     "exception": false,
     "start_time": "2025-07-07T13:49:56.443850",
     "status": "completed"
    },
    "tags": []
   },
   "outputs": [
    {
     "data": {
      "text/plain": [
       "array([[<Axes: title={'center': 'A_id'}>,\n",
       "        <Axes: title={'center': 'Size'}>,\n",
       "        <Axes: title={'center': 'Weight'}>],\n",
       "       [<Axes: title={'center': 'Sweetness'}>,\n",
       "        <Axes: title={'center': 'Crunchiness'}>,\n",
       "        <Axes: title={'center': 'Juiciness'}>],\n",
       "       [<Axes: title={'center': 'Ripeness'}>, <Axes: >, <Axes: >]],\n",
       "      dtype=object)"
      ]
     },
     "execution_count": 6,
     "metadata": {},
     "output_type": "execute_result"
    },
    {
     "data": {
      "image/png": "[encoded data removed]",
      "text/plain": [
       "<Figure size 640x480 with 9 Axes>"
      ]
     },
     "metadata": {},
     "output_type": "display_data"
    }
   ],
   "source": [
    "raw_data.hist()"
   ]
  },
  {
   "cell_type": "markdown",
   "id": "3c20bf51",
   "metadata": {
    "papermill": {
     "duration": 0.004637,
     "end_time": "2025-07-07T13:49:57.710584",
     "exception": false,
     "start_time": "2025-07-07T13:49:57.705947",
     "status": "completed"
    },
    "tags": []
   },
   "source": [
    "**Priprava podatkov**\n",
    "\n",
    "Zaradi klasifikacijskih algoritmov, ki jih bom v nadaljevanju uporabila, je dobra odločitev, da odstranim stolpec \"A-id\". Oba algortima bi se lahko, če enolični identifikator pustim v podatkih, naučila predvidevat o končni kvalifikaciji z njegovo pomočjo, ki pa v resnici nima povezave na to ali je jabolko dobro ali ne."
   ]
  },
  {
   "cell_type": "code",
   "execution_count": 7,
   "id": "19e2e8f3",
   "metadata": {
    "execution": {
     "iopub.execute_input": "2025-07-07T13:49:57.721039Z",
     "iopub.status.busy": "2025-07-07T13:49:57.720717Z",
     "iopub.status.idle": "2025-07-07T13:49:57.736457Z",
     "shell.execute_reply": "2025-07-07T13:49:57.735490Z"
    },
    "papermill": {
     "duration": 0.02291,
     "end_time": "2025-07-07T13:49:57.738104",
     "exception": false,
     "start_time": "2025-07-07T13:49:57.715194",
     "status": "completed"
    },
    "tags": []
   },
   "outputs": [
    {
     "data": {
      "text/html": [
       "<div>\n",
       "<style scoped>\n",
       "    .dataframe tbody tr th:only-of-type {\n",
       "        vertical-align: middle;\n",
       "    }\n",
       "\n",
       "    .dataframe tbody tr th {\n",
       "        vertical-align: top;\n",
       "    }\n",
       "\n",
       "    .dataframe thead th {\n",
       "        text-align: right;\n",
       "    }\n",
       "</style>\n",
       "<table border=\"1\" class=\"dataframe\">\n",
       "  <thead>\n",
       "    <tr style=\"text-align: right;\">\n",
       "      <th></th>\n",
       "      <th>Size</th>\n",
       "      <th>Weight</th>\n",
       "      <th>Sweetness</th>\n",
       "      <th>Crunchiness</th>\n",
       "      <th>Juiciness</th>\n",
       "      <th>Ripeness</th>\n",
       "      <th>Acidity</th>\n",
       "      <th>Quality</th>\n",
       "    </tr>\n",
       "  </thead>\n",
       "  <tbody>\n",
       "    <tr>\n",
       "      <th>0</th>\n",
       "      <td>-3.970049</td>\n",
       "      <td>-2.512336</td>\n",
       "      <td>5.346330</td>\n",
       "      <td>-1.012009</td>\n",
       "      <td>1.844900</td>\n",
       "      <td>0.329840</td>\n",
       "      <td>-0.491590483</td>\n",
       "      <td>good</td>\n",
       "    </tr>\n",
       "    <tr>\n",
       "      <th>1</th>\n",
       "      <td>-1.195217</td>\n",
       "      <td>-2.839257</td>\n",
       "      <td>3.664059</td>\n",
       "      <td>1.588232</td>\n",
       "      <td>0.853286</td>\n",
       "      <td>0.867530</td>\n",
       "      <td>-0.722809367</td>\n",
       "      <td>good</td>\n",
       "    </tr>\n",
       "    <tr>\n",
       "      <th>2</th>\n",
       "      <td>-0.292024</td>\n",
       "      <td>-1.351282</td>\n",
       "      <td>-1.738429</td>\n",
       "      <td>-0.342616</td>\n",
       "      <td>2.838636</td>\n",
       "      <td>-0.038033</td>\n",
       "      <td>2.621636473</td>\n",
       "      <td>bad</td>\n",
       "    </tr>\n",
       "    <tr>\n",
       "      <th>3</th>\n",
       "      <td>-0.657196</td>\n",
       "      <td>-2.271627</td>\n",
       "      <td>1.324874</td>\n",
       "      <td>-0.097875</td>\n",
       "      <td>3.637970</td>\n",
       "      <td>-3.413761</td>\n",
       "      <td>0.790723217</td>\n",
       "      <td>good</td>\n",
       "    </tr>\n",
       "    <tr>\n",
       "      <th>4</th>\n",
       "      <td>1.364217</td>\n",
       "      <td>-1.296612</td>\n",
       "      <td>-0.384658</td>\n",
       "      <td>-0.553006</td>\n",
       "      <td>3.030874</td>\n",
       "      <td>-1.303849</td>\n",
       "      <td>0.501984036</td>\n",
       "      <td>good</td>\n",
       "    </tr>\n",
       "  </tbody>\n",
       "</table>\n",
       "</div>"
      ],
      "text/plain": [
       "       Size    Weight  Sweetness  Crunchiness  Juiciness  Ripeness  \\\n",
       "0 -3.970049 -2.512336   5.346330    -1.012009   1.844900  0.329840   \n",
       "1 -1.195217 -2.839257   3.664059     1.588232   0.853286  0.867530   \n",
       "2 -0.292024 -1.351282  -1.738429    -0.342616   2.838636 -0.038033   \n",
       "3 -0.657196 -2.271627   1.324874    -0.097875   3.637970 -3.413761   \n",
       "4  1.364217 -1.296612  -0.384658    -0.553006   3.030874 -1.303849   \n",
       "\n",
       "        Acidity Quality  \n",
       "0  -0.491590483    good  \n",
       "1  -0.722809367    good  \n",
       "2   2.621636473     bad  \n",
       "3   0.790723217    good  \n",
       "4   0.501984036    good  "
      ]
     },
     "execution_count": 7,
     "metadata": {},
     "output_type": "execute_result"
    }
   ],
   "source": [
    "data = raw_data.drop(columns=[\"A_id\"])\n",
    "data.head()"
   ]
  },
  {
   "cell_type": "markdown",
   "id": "266fd5df",
   "metadata": {
    "papermill": {
     "duration": 0.004624,
     "end_time": "2025-07-07T13:49:57.747872",
     "exception": false,
     "start_time": "2025-07-07T13:49:57.743248",
     "status": "completed"
    },
    "tags": []
   },
   "source": [
    "# Modeling"
   ]
  },
  {
   "cell_type": "markdown",
   "id": "eae8e46f",
   "metadata": {
    "papermill": {
     "duration": 0.004485,
     "end_time": "2025-07-07T13:49:57.757096",
     "exception": false,
     "start_time": "2025-07-07T13:49:57.752611",
     "status": "completed"
    },
    "tags": []
   },
   "source": [
    "## Naive Bayes\n",
    "\n"
   ]
  }
 ],
 "metadata": {
  "kaggle": {
   "accelerator": "none",
   "dataSources": [
    {
     "datasetId": 4291772,
     "sourceId": 7384155,
     "sourceType": "datasetVersion"
    }
   ],
   "dockerImageVersionId": 30918,
   "isGpuEnabled": false,
   "isInternetEnabled": false,
   "language": "python",
   "sourceType": "notebook"
  },
  "kernelspec": {
   "display_name": "Python 3",
   "language": "python",
   "name": "python3"
  },
  "language_info": {
   "codemirror_mode": {
    "name": "ipython",
    "version": 3
   },
   "file_extension": ".py",
   "mimetype": "text/x-python",
   "name": "python",
   "nbconvert_exporter": "python",
   "pygments_lexer": "ipython3",
   "version": "3.10.12"
  },
  "papermill": {
   "default_parameters": {},
   "duration": 6.421968,
   "end_time": "2025-07-07T13:49:58.382422",
   "environment_variables": {},
   "exception": null,
   "input_path": "__notebook__.ipynb",
   "output_path": "__notebook__.ipynb",
   "parameters": {},
   "start_time": "2025-07-07T13:49:51.960454",
   "version": "2.6.0"
  }
 },
 "nbformat": 4,
 "nbformat_minor": 5
}
